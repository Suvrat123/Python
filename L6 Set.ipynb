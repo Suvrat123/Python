{
 "cells": [
  {
   "cell_type": "code",
   "execution_count": null,
   "metadata": {},
   "outputs": [],
   "source": [
    "# Write a program to find set of common elements in three lists using sets.\n",
    "# Input : ar1 = [1, 5, 10, 20, 40, 80]\n",
    "#         ar2 = [6, 7, 20, 80, 100]\n",
    "#         ar3 = [3, 4, 15, 20, 30, 70, 80, 120]\n",
    "\n",
    "# Output : [80, 20]\n",
    "\n",
    "ar1 = [1, 5, 10, 20, 40, 80]\n",
    "ar2 = [6, 7, 20, 80, 100]\n",
    "ar3 = [3, 4, 15, 20, 30, 70, 80, 120]\n",
    "ar1,ar2,ar3 = set(ar1),set(ar2),set(ar3)\n",
    "print('Output:\\n',list(ar1.intersection(ar2,ar3)))"
   ]
  },
  {
   "cell_type": "code",
   "execution_count": null,
   "metadata": {},
   "outputs": [],
   "source": [
    "# Write a program to count unique number of vowels using sets in a given string. Lowercase and upercase vowels will be taken as \n",
    "# different.\n",
    "# Input:\n",
    "# Str1 = \"hands-on data science mentorship progrAm with live classes at affordable fee only on CampusX\"\n",
    "# Output:\n",
    "# No of unique vowels-6\n",
    "\n",
    "str1 =\"hands-on data science mentorship progrAm with live classes at affordable fee only on CampusX\"\n",
    "str1 = set(str1)\n",
    "vowels = 'aeiouAEIOU'\n",
    "print('No of unique vowels-',len(str1.intersection(vowels)))"
   ]
  },
  {
   "cell_type": "code",
   "execution_count": null,
   "metadata": {},
   "outputs": [],
   "source": [
    "# Write a program to Check if a given string is binary string of or not.\n",
    "# A string is said to be binary if it's consists of only two unique characters.\n",
    "# Take string input from user.\n",
    "# Input: str = \"01010101010\"\n",
    "# Output: Yes\n",
    "# Input: str = \"1222211\"\n",
    "# Output: Yes\n",
    "# Input: str = \"Campusx\"\n",
    "# Output: No\n",
    "\n",
    "str1 = \"Campusx\"\n",
    "str1 = set(str1)\n",
    "if(len(str1)==2):\n",
    "    print('Binary')\n",
    "else:\n",
    "    print('Not Binary')"
   ]
  },
  {
   "cell_type": "code",
   "execution_count": null,
   "metadata": {},
   "outputs": [],
   "source": [
    "# find union of n arrays.\n",
    "# Input:\n",
    "# [[1, 2, 2, 4, 3, 6],\n",
    "#  [5, 1, 3, 4],\n",
    "#  [9, 5, 7, 1],\n",
    "#  [2, 4, 1, 3]]\n",
    "# Output:\n",
    "# [1, 2, 3, 4, 5, 6, 7, 9]\n",
    "\n",
    "li =  [[1, 2, 2, 4, 3, 6],[5, 1, 3, 4],[9, 5, 7, 1],[2, 4, 1, 3]]\n",
    "s = set()\n",
    "{s.update(i) for i in li}\n",
    "print('Output:\\n',s)"
   ]
  },
  {
   "cell_type": "code",
   "execution_count": null,
   "metadata": {},
   "outputs": [],
   "source": [
    "# Intersection of two lists. Intersection of two list means we need to take all those elements which are common to both of \n",
    "# the initial lists and store them into another list. Only use using list-comprehension.\n",
    "# Input:\n",
    "# lst1 = {15, 9, 10, 56, 23, 78, 5, 4, 9}\n",
    "# lst2 = {9, 4, 5, 36, 47, 26, 10, 45, 87}\n",
    "# Output:\n",
    "# [9, 10, 4, 5]\n",
    "# Input:\n",
    "# lst1 = {4, 9, 1, 17, 11, 26, 28, 54, 69}\n",
    "# lst2 = {9, 9, 74, 21, 45, 11, 63, 28, 26}\n",
    "# Output:\n",
    "# [9, 11, 26, 28]\n",
    "\n",
    "lst1 = {15, 9, 10, 56, 23, 78, 5, 4, 9}\n",
    "lst2 = {9, 4, 5, 36, 47, 26, 10, 45, 8}\n",
    "result = [item for item in lst1 if item in lst2]\n",
    "print('Output:\\n',result)"
   ]
  }
 ],
 "metadata": {
  "kernelspec": {
   "display_name": "Python 3",
   "language": "python",
   "name": "python3"
  },
  "language_info": {
   "codemirror_mode": {
    "name": "ipython",
    "version": 3
   },
   "file_extension": ".py",
   "mimetype": "text/x-python",
   "name": "python",
   "nbconvert_exporter": "python",
   "pygments_lexer": "ipython3",
   "version": "3.9.1"
  }
 },
 "nbformat": 4,
 "nbformat_minor": 4
}
