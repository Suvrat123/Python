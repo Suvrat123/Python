{
 "cells": [
  {
   "cell_type": "code",
   "execution_count": null,
   "metadata": {},
   "outputs": [],
   "source": [
    "import numpy as np\n",
    "import matplotlib.pyplot as plt"
   ]
  },
  {
   "cell_type": "code",
   "execution_count": null,
   "metadata": {},
   "outputs": [],
   "source": [
    "# Create a null vector of size 10 but the fifth value which is 1.\n",
    "\n",
    "a = np.nan * np.empty(10)\n",
    "a[4] = 1\n",
    "print(\"Output : \\n\",a)"
   ]
  },
  {
   "cell_type": "code",
   "execution_count": null,
   "metadata": {},
   "outputs": [],
   "source": [
    "# Ask user to input two numbers a, b. Write a program to generate a random array of shape (a, b) and print the array and avg of \n",
    "# the array.\n",
    "\n",
    "a,b = map(int,input(\"Enter two number : \").split(' '))\n",
    "c = np.random.random((a,b))\n",
    "print(\"Array : \",c)\n",
    "print(\"Mean : \",np.mean(c))"
   ]
  },
  {
   "cell_type": "code",
   "execution_count": null,
   "metadata": {},
   "outputs": [],
   "source": [
    "# Write a function to create a 2d array with 1 on the border and 0 inside. Take 2-D array shape as (a,b) as parameter to \n",
    "# function.\n",
    "# [[1,1,1,1],\n",
    "# [1,0,0,1],\n",
    "# [1,0,0,1],\n",
    "# [1,1,1,1]]\n",
    "\n",
    "def array2d(a,b):\n",
    "    c = np.ones((a,b),dtype=np.int8)\n",
    "    c[1:-1,1:-1] = 0\n",
    "    return c\n",
    "\n",
    "print(\"Output : \\n\",array2d(4,4))"
   ]
  },
  {
   "cell_type": "code",
   "execution_count": null,
   "metadata": {},
   "outputs": [],
   "source": [
    "# Create a vector of size 10 with values ranging from 0 to 1, both excluded.\n",
    "\n",
    "a = np.linspace(0,1,12)[1:-1]\n",
    "print(\"Output : \\n\",a)"
   ]
  },
  {
   "cell_type": "code",
   "execution_count": null,
   "metadata": {},
   "outputs": [],
   "source": [
    "# Can you create a identity matrix of shape (3,4). If yes write code for it.\n",
    "# No\n",
    "np.identity(4),np.eye(3)"
   ]
  },
  {
   "cell_type": "code",
   "execution_count": null,
   "metadata": {},
   "outputs": [],
   "source": [
    "# Create a 5x5 matrix with row values ranging from 0 to 4.\n",
    "\n",
    "a = np.random.random((5,5))*4\n",
    "print(\"Output:\\n\",a)"
   ]
  },
  {
   "cell_type": "code",
   "execution_count": null,
   "metadata": {},
   "outputs": [],
   "source": [
    "# Consider a random integer (in range 1 to 100) vector with shape (10,2) representing coordinates, and coordinates of a point \n",
    "# as array is given. Create an array of distance of each point in the random vector from the given point. Distance array should\n",
    "# be integer type.\n",
    "\n",
    "a = np.random.randint(100,size = (10,2))\n",
    "point = np.array([2,3])\n",
    "distance = np.sqrt(np.sum((a-point)**2,axis=1)).astype(int)\n",
    "print(\"Output : \\n\",distance)"
   ]
  },
  {
   "cell_type": "code",
   "execution_count": null,
   "metadata": {},
   "outputs": [],
   "source": [
    "# Consider a (6,7,8) shape array, what is the index (x,y,z) of the 100th element?\n",
    "\n",
    "np.unravel_index(100, (6,7,8))"
   ]
  },
  {
   "cell_type": "code",
   "execution_count": null,
   "metadata": {},
   "outputs": [],
   "source": [
    "# You are given a space separated list of numbers. Your task is to print a reversed NumPy array with the element type float.\n",
    "# Input Format:\n",
    "# A single line of input containing space separated numbers.\n",
    "# Output Format:\n",
    "# Print the reverse NumPy array with type float.\n",
    "# Input:\n",
    "# 1 2 3 4 -8 -10\n",
    "# Output:\n",
    "# [-10.  -8.   4.   3.   2.   1.]\n",
    "\n",
    "a = input().split(\" \")\n",
    "print(\"Output : \\n\",np.array(a[::-1],dtype=float))"
   ]
  },
  {
   "cell_type": "code",
   "execution_count": null,
   "metadata": {},
   "outputs": [],
   "source": [
    "# Elements count\n",
    "# Count the number of elements of a numpy array.\n",
    "# Input:\n",
    "# np.array([])\n",
    "# Output:\n",
    "# elements_count :  0\n",
    "# Input:\n",
    "# np.array([1, 2])\n",
    "# Output:\n",
    "# elements_count :  2\n",
    "\n",
    "a = np.array([])\n",
    "print(\"No of element in an array : \",a.size)"
   ]
  },
  {
   "cell_type": "code",
   "execution_count": null,
   "metadata": {},
   "outputs": [],
   "source": [
    "# Softmax function\n",
    "# Create a Python function to calculate the Softmax of the given numpy 1D array. The function only accepts the numpy 1D array, \n",
    "# otherwise raise error.\n",
    "# σ(z⃗ )i = ezi/∑Kj=iezj\n",
    "# Input:\n",
    "# [86.03331084 37.7285648  48.64908087 87.16563062 38.40852563 37.20006318]\n",
    "# Output:\n",
    "# [2.43733249e-01, 2.56112115e-22, 1.41628284e-17, 7.56266751e-01, 5.05514197e-22, 1.50974911e-22]\n",
    "# Input:\n",
    "# [33.17344305 45.61961654 82.05405781 80.9647098  68.82830233 91.52064278]\n",
    "# Output:\n",
    "# [4.57181035e-26, 1.16249923e-20, 7.73872596e-05, 2.60358426e-05, 1.39571531e-10, 9.99896577e-01]\n",
    "\n",
    "def softmax(arr):\n",
    "    if(arr.ndim==1 or type(arr)!=np.ndarray):\n",
    "            result = np.exp(arr)/np.sum((np.exp(arr)))\n",
    "            return result\n",
    "    else:\n",
    "        print(\"Pass only 1d array.\")\n",
    "        \n",
    "arr = np.array([86.03331084,37.7285648,48.64908087,87.16563062,38.40852563,37.20006318])\n",
    "print(\"Output : \\n\",softmax(arr))"
   ]
  },
  {
   "cell_type": "code",
   "execution_count": null,
   "metadata": {},
   "outputs": [],
   "source": [
    "# Write a python function that accepts infinite number of numpy arrays and do the vertical stack to them. Then return that new \n",
    "# array as result. The function only accepts the numpy array, otherwise raise error\n",
    "# Input:\n",
    "# a= [[0 1 2 3 4]\n",
    "#  [5 6 7 8 9]]\n",
    "# b= [[1 1 1 1 1]\n",
    "#  [1 1 1 1 1]]\n",
    "# Output:\n",
    "# [[0 1 2 3 4]\n",
    "#  [5 6 7 8 9]\n",
    "#  [1 1 1 1 1]\n",
    "#  [1 1 1 1 1]]\n",
    "# Input:\n",
    "# a= [[0 1 2 3 4]\n",
    "#  [5 6 7 8 9]]\n",
    "# b= [[1 1 1 1 1]\n",
    "#  [1 1 1 1 1]]\n",
    "# c= [[0.10117373 0.1677244  0.73764059 0.83166097 0.48985695]\n",
    "#  [0.44581567 0.13502419 0.55692335 0.16479622 0.61193593]] \n",
    "# Output:\n",
    "# [[0.         1.         2.         3.         4.        ]\n",
    "#  [5.         6.         7.         8.         9.        ]\n",
    "#  [1.         1.         1.         1.         1.        ]\n",
    "#  [1.         1.         1.         1.         1.        ]\n",
    "#  [0.10117373 0.1677244  0.73764059 0.83166097 0.48985695]\n",
    "#  [0.44581567 0.13502419 0.55692335 0.16479622 0.61193593]]\n",
    "\n",
    "def v_stack(*args):\n",
    "    for i in args:\n",
    "        if(type(i) != np.ndarray):\n",
    "            raise TypeError(\"Pass only numpy array\")\n",
    "    else:\n",
    "        return np.vstack(args)\n",
    "        \n",
    "a = np.array([[0,1,2,3,4],[5,6,7,8,9]])\n",
    "b = np.array([[1,1,1,1,1],[1,1,1,1,1]])\n",
    "# c = [1,2,3]\n",
    "c = np.array([[0.10117373,0.1677244,0.73764059,0.83166097,0.48985695],[0.44581567,0.13502419,0.55692335,0.16479622,0.61193593]])\n",
    "print(\"Output : \\n\",v_stack(a,b,c))"
   ]
  },
  {
   "cell_type": "code",
   "execution_count": null,
   "metadata": {},
   "outputs": [],
   "source": [
    "# Create a python function named date_array that accepts two dates as string format and returns a numpy array of dates between \n",
    "# those 2 dates. The function only accept 2 strings, otherwise raise error. The date format should be like this only: 2022-12-6.\n",
    "# The end date should be included and for simplicity, choose dates from a same year.\n",
    "# Input:\n",
    "# date_array(start = '2020-09-15', end = '2020-09-25')\n",
    "# Output:\n",
    "# ['2020-09-15', '2020-09-16', '2020-09-17', '2020-09-18',\n",
    "#  '2020-09-19', '2020-09-20', '2020-09-21', '2020-09-22',\n",
    "#  '2020-09-23', '2020-09-24', '2020-09-25']\n",
    "# Input:\n",
    "# date_array(start = '2022-12-01', end = '2022-12-06')\n",
    "# Output:\n",
    "# ['2022-12-01', '2022-12-02', '2022-12-03', '2022-12-04', '2022-12-05', '2022-12-06']\n",
    "# Input:\n",
    "# date_array(start = '2020-11-25', end = '2020-11-30')\n",
    "# Output:\n",
    "# ['2020-11-25', '2020-11-26', '2020-11-27', '2020-11-28',\n",
    "#  '2020-11-29', '2020-11-30']\n",
    "\n",
    "def date_array(start,end):\n",
    "    if(type(start)!=str or type(end)!=str):\n",
    "        raise TypeError(\"Date is not in string format\")\n",
    "    total_days_of_month = {\"01\":31,\"02\":28,\"03\":31,\"04\":30,\"05\":31,\"06\":30,\"07\":31,\"08\":31,\"09\":30,\"10\":31,\"11\":30,\"12\":31}\n",
    "    end = end.split(\"-\")\n",
    "    end_last = int(end[-1])+1\n",
    "    if(total_days_of_month[end[-2]]<end_last):\n",
    "        days_diff = end_last - total_days_of_month[end[-2]]\n",
    "        end[-1] = f\"0{days_diff}\" if days_diff<10 else f\"{days_diff}\"\n",
    "        next_month = int(end[-2]) + 1\n",
    "        end[-2] = f\"0{next_month}\" if next_month<10 else f\"{next_month}\"\n",
    "    else:\n",
    "        end[-1] = f\"0{end_last}\" if (end_last<10) else f\"{end_last}\"\n",
    "    end = \"-\".join(end)\n",
    "    return np.arange(start,end,dtype='datetime64[D]')\n",
    "              \n",
    "print(\"Output : \\n\",date_array(start='2022-11-15',end='2022-11-30'))"
   ]
  },
  {
   "cell_type": "code",
   "execution_count": null,
   "metadata": {},
   "outputs": [],
   "source": [
    "# Subtract the mean of each row from a matrix.\n",
    "\n",
    "arr1 = np.random.randint(low=1, high=10000, size=40).reshape(8,5)\n",
    "result = arr1 - np.mean(arr1,axis=1,keepdims=True)\n",
    "print(\"Output : \\n\",result)"
   ]
  },
  {
   "cell_type": "code",
   "execution_count": null,
   "metadata": {},
   "outputs": [],
   "source": [
    "# Swap column-1 of array with column-2 in the array.\n",
    "\n",
    "a = np.random.random((3,3))\n",
    "print(\"Original array : \\n\",a)\n",
    "result = a[:,[0,2,1]]\n",
    "print(\"Final array : \\n\",result)"
   ]
  },
  {
   "cell_type": "code",
   "execution_count": null,
   "metadata": {},
   "outputs": [],
   "source": [
    "# Replace odd elements in arrays with -1.\n",
    "\n",
    "a = np.random.randint(100,size=(10,2))\n",
    "print(\"Original array : \\n\",a)\n",
    "a[a%2==1] = -1\n",
    "print(\"\\nNew array : \\n\",a)"
   ]
  },
  {
   "cell_type": "code",
   "execution_count": null,
   "metadata": {},
   "outputs": [],
   "source": [
    "# Given two arrays of same shape make an array of max out of two arrays. (Numpy way)\n",
    "# a=np.array([6,3,1,5,8])\n",
    "# b=np.array([3,2,1,7,2])\n",
    "# Result-> [6 3 1 7 8]\n",
    "\n",
    "a = np.array([6,3,1,5,8])\n",
    "b = np.array([3,2,1,7,2])\n",
    "a[b>a] = b[a<b]\n",
    "print(\"Result : \",a)"
   ]
  },
  {
   "cell_type": "code",
   "execution_count": null,
   "metadata": {},
   "outputs": [],
   "source": [
    "# Answer below asked questions on given array:\n",
    "# 1. Fetch Every alternate column of the array\n",
    "# 2. Normalise the given array\n",
    "# There are different form of normalisation for this question use below formula.\n",
    "# Xnormalized = (X−Xmin)/(Xmax−Xmin) \n",
    "# arr1=np.random.randint(low=1, high=10000, size=40).reshape(8,5)\n",
    "\n",
    "arr1=np.random.randint(low=1, high=10000, size=40).reshape(8,5)\n",
    "arr2 = arr1[:,::2]\n",
    "print(\"Output : \\n\",arr2)\n",
    "Xmax = arr1.max()\n",
    "Xmin = arr1.min()\n",
    "Xnormalized = (arr1 - Xmin)/(Xmax-Xmin)\n",
    "print(\"Normalized array : \\n\",Xnormalized)"
   ]
  },
  {
   "cell_type": "code",
   "execution_count": null,
   "metadata": {},
   "outputs": [],
   "source": [
    "# Write a function which will accept 2 arguments.\n",
    "# First: A 1D numpy array arr\n",
    "# Second: An integer n {Please make sure n<=len(arr)}\n",
    "# Output: The output should be the nth largest item out of the array\n",
    "# Example1 : arr=(12,34,40,7,1,0) and n=3, the output should be 12\n",
    "# Example2 : arr=(12,34,40,7,1,0) and n=1, the output should be 40\n",
    "\n",
    "def nth_largest(arr,n):\n",
    "        if(n<=len(arr)):\n",
    "            return np.sort(arr)[-n]\n",
    "        else:\n",
    "            raise IndexError(\"n is out of the limit\")\n",
    "\n",
    "arr=np.array((12,34,40,7,1,0))\n",
    "print(\"Output : \",nth_largest(arr,1))"
   ]
  },
  {
   "cell_type": "code",
   "execution_count": null,
   "metadata": {},
   "outputs": [],
   "source": [
    "# Create the following pattern without hardcoding. Use only numpy functions and the below input array a.\n",
    "# Input: a = np.array([1,2,3])\n",
    "# Output: array([1, 1, 1, 2, 2, 2, 3, 3, 3, 1, 2, 3, 1, 2, 3, 1, 2, 3])\n",
    "\n",
    "a = np.array([1,2,3])\n",
    "np.hstack((np.repeat(a,3),np.tile(a,3)))"
   ]
  },
  {
   "cell_type": "code",
   "execution_count": null,
   "metadata": {},
   "outputs": [],
   "source": [
    "# Find the nearest element in the array to a given integer.\n",
    "# a=23 and array - [10 17 24 31 38 45 52 59].\n",
    "# Nearest element is 24\n",
    "# Hint: Read about this function argmin()\n",
    "\n",
    "arr =  np.array([10,17,24,31,38,45,52,59])\n",
    "a = 23\n",
    "print(\"Nearest element is : \",arr[np.argmin(abs(arr-a))])"
   ]
  },
  {
   "cell_type": "code",
   "execution_count": null,
   "metadata": {},
   "outputs": [],
   "source": [
    "# Replace multiples of 3 or 5 as 0 in the given array.\n",
    "# arr=[1 2 3 4 5 6 7 9]\n",
    "# result-> [1 2 0 4 0 0 7 0]\n",
    "\n",
    "arr = np.array([1,2,3,4,5,6,7,9])\n",
    "arr[(arr%3==0) | (arr%5==0)]=0\n",
    "print(\"Output : \",arr)"
   ]
  },
  {
   "cell_type": "code",
   "execution_count": null,
   "metadata": {},
   "outputs": [],
   "source": [
    "# Use Fancy Indexing.\n",
    "# Double the array elements at given indexes\n",
    "# arr = np.arange(10)\n",
    "# indexes = [0,3,4,9]\n",
    "# Result -> [ 0 1 2 6 8 5 6 7 8 18]\n",
    "# Using a given array make a different array as in below example\n",
    "# array = [1,2,3]\n",
    "# result array -> [1 1 1 2 2 2 3 3 3]\n",
    "# Internal-repetion should be as length of the array.\n",
    "# Hint:\n",
    "# if a is an array\n",
    "# a = [2,4]\n",
    "# a[[1,1,0,1]] will result in-> [4 4 2 4]\n",
    "\n",
    "arr = np.arange(10)\n",
    "indexes = [0,3,4,9]\n",
    "arr[indexes] *=2\n",
    "print(\"Output\\n\",arr)\n",
    "\n",
    "arr = np.array([1,2,3])\n",
    "indexes = []\n",
    "for index in range(len(arr)):\n",
    "    indexes.extend([index]*len(arr))\n",
    "print(\"Output\\n\",arr[indexes])"
   ]
  },
  {
   "cell_type": "code",
   "execution_count": null,
   "metadata": {},
   "outputs": [],
   "source": [
    "# Your are given an array which is havig some nan value. You job is to fill those nan values with most common element in the \n",
    "# array.\n",
    "# arr=np.array([[1,2,np.nan],[4,2,6],[np.nan,np.nan,5]])\n",
    "\n",
    "arr=np.array([[1,2,np.nan],[4,2,6],[np.nan,np.nan,5]])\n",
    "d = {}\n",
    "value = 0\n",
    "for i in arr.flatten():\n",
    "    if(~np.isnan(i)):\n",
    "        d.setdefault(i, 0)\n",
    "        d[i] +=1\n",
    "arr[np.isnan(arr)] = sorted(d.items(),key=lambda x:x[1])[-1][0]\n",
    "print(\"Output\\n\",arr)"
   ]
  },
  {
   "cell_type": "code",
   "execution_count": null,
   "metadata": {},
   "outputs": [],
   "source": [
    "# Write a NumPy program\n",
    "# to find the missing data in a given array. Return a boolean matrix.also try to fill those missing values with 0. For that, \n",
    "# you can use np.nan_to_num(a)\n",
    "# import numpy as np\n",
    "# np.array([[3, 2, np.nan, 1],\n",
    "#           [10, 12, 10, 9],\n",
    "#           [5, np.nan, 1, np.nan]])\n",
    "\n",
    "arr = np.array([[3, 2, np.nan, 1],[10, 12, 10, 9],[5, np.nan, 1, np.nan]])\n",
    "print(\"Output\\n\",np.nan_to_num(arr,0))"
   ]
  },
  {
   "cell_type": "code",
   "execution_count": null,
   "metadata": {},
   "outputs": [],
   "source": [
    "# Given two arrays, X and Y, construct the Cauchy matrix C.\n",
    "# Cij =1/(xi - yj)\n",
    "# x = numpy.array([1,2,3,4]).reshape((-1, 1))\n",
    "# y = numpy.array([5,6,7])\n",
    "\n",
    "x = np.array([1,2,3,4]).reshape((-1, 1))\n",
    "y = np.array([5,6,7])\n",
    "def cauchy_matrix(x,y):\n",
    "    c = 1/(x-y)\n",
    "    return c\n",
    "\n",
    "print(\"Cauchy Matrix\\n\",cauchy_matrix(x,y))"
   ]
  },
  {
   "cell_type": "code",
   "execution_count": null,
   "metadata": {},
   "outputs": [],
   "source": [
    "# Plot this below equation.\n",
    "# y = (e^x−e^−x)/(e^x+e^−x)\n",
    "# Note: This equation is called tanh activation function. In deep learning, many times this function is used. If you find some \n",
    "# difference between the sigmoid function and this tanh function, note that to your notebook\n",
    "\n",
    "x = np.linspace(-10,10,100)\n",
    "y = (np.exp(x)-np.exp(-x))/(np.exp(x)+np.exp(-x))\n",
    "plt.plot(x,y)"
   ]
  },
  {
   "cell_type": "code",
   "execution_count": null,
   "metadata": {},
   "outputs": [],
   "source": [
    "# Plot the below equation.\n",
    "# y = (36−(x−4)^2)**0.5+2\n",
    "# The range of x should be between -2 to 10.  x∈[−2,10]\n",
    "\n",
    "x = np.linspace(-2,10,100)\n",
    "y = (36-(x-4)**2)**0.5 + 2\n",
    "plt.plot(x,y)"
   ]
  },
  {
   "cell_type": "code",
   "execution_count": null,
   "metadata": {},
   "outputs": [],
   "source": [
    "# Write a program implement Boradcasting Rule to check if two array can be added or not.\n",
    "# Given tuples of shapes.\n",
    "# shape of a- (3,2,2)\n",
    "# shape of b- (2,2)\n",
    "# check_broadcast(a, b) -> return Boolean (True if can broadcasted, False other wise.)\n",
    "\n",
    "def check_broadcast(a,b):\n",
    "    a = a[::-1]\n",
    "    b = b[::-1]\n",
    "    for ai,bi in zip(a,b):\n",
    "        if(ai !=bi and ai !=1 and bi !=1):\n",
    "            return \"Not Broadcasted\"\n",
    "    return \"Broadcasted\"\n",
    "print(\"Output : \",check_broadcast((4,3,1,5),(2,5)))"
   ]
  },
  {
   "cell_type": "code",
   "execution_count": null,
   "metadata": {},
   "outputs": [],
   "source": [
    "# Create a random 3x4 matrix with value between 0-100. And perform below tasks\n",
    "# i. Sort this matrix. np.sort()\n",
    "# ii. Sort this matrix based on values in 2nd column.\n",
    "# iii. Sort this matrix based on max value in each row.\n",
    "# iv. Sort based on elements value.\n",
    "# arr = \n",
    "#     [[92 90 74]\n",
    "#     [ 6 63 93]\n",
    "#     [15 93 96]\n",
    "#     [70 60 48]]\n",
    "# i. np.sort\n",
    "# [[74 90 92]\n",
    "#  [ 6 63 93]\n",
    "#  [15 93 96]\n",
    "#  [48 60 70]]\n",
    "# ii. based on 2nd column\n",
    "# [[70 60 48]\n",
    "#  [ 6 63 93]\n",
    "#  [92 90 74]\n",
    "#  [15 93 96]]\n",
    "# iii. based on row max- ascending\n",
    "# [[15 93 96]\n",
    "#  [ 6 63 93]\n",
    "#  [92 90 74]\n",
    "#  [70 60 48]]\n",
    "# iv. based on elements value\n",
    "# [[ 6 15 48]\n",
    "#  [60 63 70]\n",
    "#  [74 90 92]\n",
    "#  [93 93 96]]\n",
    "\n",
    "arr = np.array([92,90,74,6,63,93,15,93,96,70,60,48]).reshape(4,3)                                             \n",
    "print(\"Sorted array\\n\",np.sort(arr))\n",
    "print(\"Sorted array based on 2nd column\\n\",arr[np.argsort(arr[:,1])])\n",
    "print(\"Sorted array based on row max- ascending\\n\",np.array(sorted(arr,key=lambda x:max(x))))\n",
    "print(\"Sorted array based on elements value\\n\",np.sort(arr.flatten()).reshape(4,3))"
   ]
  },
  {
   "cell_type": "code",
   "execution_count": null,
   "metadata": {},
   "outputs": [],
   "source": [
    "# There is an array of marks of 5 students in 4 subjects. Further you are asked to perform below task.\n",
    "# i. Add marks every student of an extra subject in the same array.\n",
    "# ii. Add two new students marks in respective 5 subjects.(one subject added in above task)\n",
    "# iii. Add extra column with sum of all subjects(5-subjects) marks\n",
    "# iv. Sort the array(non-ascending order) on total marks column--one added in above task. Show top 2 rows.\n",
    "# Note: Change dimension of arrays during concatenation or appending if required.\n",
    "# Given Array-\n",
    "# marks = [[13, 10,  9, 33],\n",
    "#        [63, 46, 90, 42],\n",
    "#        [39, 76, 13, 29],\n",
    "#        [82,  9, 29, 78],\n",
    "#        [67, 61, 59, 36]]\n",
    "# extra_subject = [41, 87, 72, 36, 92]\n",
    "# # Two extra students record-\n",
    "# rec1 = [77, 83, 98, 95, 89]\n",
    "# rec2 = [92, 71, 52, 61, 53]\n",
    "\n",
    "marks = np.array([[13, 10,  9, 33],[63, 46, 90, 42],[39, 76, 13, 29],[82,  9, 29, 78],[67, 61, 59, 36]])\n",
    "extra_subject = np.array([41, 87, 72, 36, 92]).reshape(-1,1)\n",
    "marks = np.concatenate([marks,extra_subject], axis=1)\n",
    "print(\"Marks\\n\",marks)\n",
    "rec1 = [77, 83, 98, 95, 89]\n",
    "rec2 = [92, 71, 52, 61, 53]\n",
    "marks = np.append(marks,(rec1,rec2),axis=0)\n",
    "print(\"Marks\\n\",marks)\n",
    "marks = np.concatenate([marks,np.sum(marks,axis=1,keepdims=True)], axis=1)\n",
    "print(\"Marks\\n\",marks)\n",
    "print(\"Marks\\n\",np.array(sorted(marks,key=lambda x:x[-1],reverse=True))[:2,])"
   ]
  },
  {
   "cell_type": "code",
   "execution_count": null,
   "metadata": {},
   "outputs": [],
   "source": [
    "# Find unique arrays from a 2D array column wise and row wise.\n",
    "# arr = np.array([[1,2,3,3,1,1],\n",
    "#                 [0,9,1,2,8,8],\n",
    "#                 [1,2,3,8,8,8],\n",
    "#                 [1,2,3,3,1,1]])\n",
    "# Expected Result-\n",
    "# Row Wise\n",
    "# [[0 9 1 2 8 8]\n",
    "#  [1 2 3 3 1 1]\n",
    "#  [1 2 3 8 8 8]]\n",
    "# Col Wise\n",
    "# [[1 1 2 3 3]\n",
    "#  [0 8 9 1 2]\n",
    "#  [1 8 2 3 8]\n",
    "#  [1 1 2 3 3]]\n",
    "\n",
    "arr = np.array([[1,2,3,3,1,1],[0,9,1,2,8,8],[1,2,3,8,8,8],[1,2,3,3,1,1]])\n",
    "print(\"Row Wise\\n\",np.unique(arr,axis=0))\n",
    "print(\"Column Wise\\n\",np.unique(arr,axis=1))"
   ]
  },
  {
   "cell_type": "code",
   "execution_count": null,
   "metadata": {},
   "outputs": [],
   "source": [
    "# Flip given 2-D array along both axes at the same time.\n",
    "\n",
    "arr = [[13, 10,  9, 33],[63, 46, 90, 42],[39, 76, 13, 29],[82,  9, 29, 78],[67, 61, 59, 36]]\n",
    "print(\"Output\\n\",np.flip(arr))"
   ]
  },
  {
   "cell_type": "code",
   "execution_count": null,
   "metadata": {},
   "outputs": [],
   "source": [
    "# Get row numbers of NumPy array having element larger than X.\n",
    "# arr = [[1,2,3,4,5], \n",
    "#       [10,-3,30,4,5], \n",
    "#       [3,2,5,-4,5], \n",
    "#       [9,7,3,6,5]] \n",
    "# X = 6\n",
    "\n",
    "arr = np.array([[1,2,3,4,5],[10,-3,30,4,5],[3,2,5,-4,5],[9,7,3,6,5]])\n",
    "x = 6\n",
    "print(\"Output : \",np.where(np.any(arr>x,axis=1))[0])"
   ]
  },
  {
   "cell_type": "code",
   "execution_count": null,
   "metadata": {},
   "outputs": [],
   "source": [
    "# How to convert an array of arrays into a flat 1d array?\n",
    "# These arrays are given.\n",
    "# arr1 = np.arange(3)\n",
    "# arr2 = np.arange(3,7)\n",
    "# arr3 = np.arange(7,10)\n",
    "\n",
    "arr1 = np.arange(3)\n",
    "arr2 = np.arange(3,7)\n",
    "arr3 = np.arange(7,10) \n",
    "print(\"Output\\n\",np.concatenate([arr1,arr2,arr3]))"
   ]
  },
  {
   "cell_type": "code",
   "execution_count": null,
   "metadata": {},
   "outputs": [],
   "source": [
    "# You are given a array. You have to find the minimum and maximum array element and remove that from the array.\n",
    "# import numpy as np\n",
    "# np.random.seed(400)\n",
    "# arr = np.random.randint(100, 1000, 200).reshape((1, 200))\n",
    "\n",
    "np.random.seed(400)\n",
    "arr = np.random.randint(100, 1000, 200).reshape((1, 200))\n",
    "print(\"Output\\n\",np.delete(arr,[np.argmax(arr),np.argmin(arr)]))"
   ]
  },
  {
   "cell_type": "code",
   "execution_count": null,
   "metadata": {},
   "outputs": [],
   "source": [
    "# You are given an arrays. You have to limit this array's elements between 100 to 200.  arr∈[100,200] . So replace those values \n",
    "# accordingly with the minimum and maximum value. Then sort the array and perform the cumulative sum of that array.\n",
    "\n",
    "arr = np.random.randint(0, 2000, 500)\n",
    "print(\"Output\\n\",np.cumsum(np.sort(np.clip(arr,a_min=100,a_max=200))))"
   ]
  },
  {
   "cell_type": "code",
   "execution_count": null,
   "metadata": {},
   "outputs": [],
   "source": [
    "# You are given a array ( arr∈[0,1] ). First you have round off the elements upto 3 decimal places and compare that\n",
    "# 0th percentile == minimum value of the array\n",
    "# 100th percentile == maximum value of the array\n",
    "# also find the difference betwen 51th percenile and 50th percentile values\n",
    "\n",
    "arr = np.around(np.linspace(0,1,100),3)\n",
    "print(\"0th percentile == minimum value of the array : \",np.percentile(arr,0)==np.min(arr))\n",
    "print(\"100th percentile == maximum value of the array : \",np.percentile(arr,100)==np.max(arr))\n",
    "print(\"Difference between 51st percentile and 50st percentile value : \",round(np.percentile(arr,51)-np.percentile(arr,50),3))"
   ]
  }
 ],
 "metadata": {
  "kernelspec": {
   "display_name": "Python 3",
   "language": "python",
   "name": "python3"
  },
  "language_info": {
   "codemirror_mode": {
    "name": "ipython",
    "version": 3
   },
   "file_extension": ".py",
   "mimetype": "text/x-python",
   "name": "python",
   "nbconvert_exporter": "python",
   "pygments_lexer": "ipython3",
   "version": "3.9.1"
  }
 },
 "nbformat": 4,
 "nbformat_minor": 4
}
