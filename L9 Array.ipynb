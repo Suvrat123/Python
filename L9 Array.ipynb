{
 "cells": [
  {
   "cell_type": "code",
   "execution_count": 1,
   "metadata": {},
   "outputs": [
    {
     "name": "stdout",
     "output_type": "stream",
     "text": [
      "Output:\n",
      " 4\n"
     ]
    }
   ],
   "source": [
    "# find the kth largest/smallest items from a list\n",
    "\n",
    "l = [12,23,1,4,56,34,22,3]\n",
    "k = 3\n",
    "l.sort()\n",
    "print('Output:\\n',l[k-1])"
   ]
  },
  {
   "cell_type": "code",
   "execution_count": 2,
   "metadata": {},
   "outputs": [
    {
     "name": "stdout",
     "output_type": "stream",
     "text": [
      "Array is not sorted\n"
     ]
    }
   ],
   "source": [
    "# check if an array is sorted\n",
    "\n",
    "l = [1,2,6,4,5]\n",
    "flag = True\n",
    "for i in range(0,len(l)-1):\n",
    "    if(l[i]>l[i+1]):\n",
    "        flag = False\n",
    "if(flag==True):\n",
    "    print('Array is sorted')\n",
    "else:\n",
    "    print('Array is not sorted')"
   ]
  },
  {
   "cell_type": "code",
   "execution_count": 3,
   "metadata": {},
   "outputs": [
    {
     "name": "stdout",
     "output_type": "stream",
     "text": [
      "Output:\n",
      "Maximum:54 and Minimum:1\n"
     ]
    }
   ],
   "source": [
    "# find min/max in an array\n",
    "\n",
    "l = [21,1,34,23,54,11,10]\n",
    "maximum,minimum = l[0],l[0]\n",
    "for i in l:\n",
    "    if(i>maximum):\n",
    "        maximum = i\n",
    "    elif(i<minimum):\n",
    "        minimum = i\n",
    "print(f'Output:\\nMaximum:{maximum} and Minimum:{minimum}')"
   ]
  },
  {
   "cell_type": "code",
   "execution_count": 4,
   "metadata": {},
   "outputs": [
    {
     "name": "stdout",
     "output_type": "stream",
     "text": [
      "Output:\n",
      " 1\n"
     ]
    }
   ],
   "source": [
    "# find the first element to occur k times in an array\n",
    "\n",
    "l = [1,1,2,3,4,4,5,5]\n",
    "k = 2\n",
    "d = {}\n",
    "for i in l:\n",
    "    if(i not in d):\n",
    "        d[i] = l.count(i)\n",
    "    if(d[i]==2):\n",
    "        print('Output:\\n',i)\n",
    "        break"
   ]
  },
  {
   "cell_type": "code",
   "execution_count": 5,
   "metadata": {},
   "outputs": [
    {
     "name": "stdout",
     "output_type": "stream",
     "text": [
      "Output:\n",
      " [1, 4, 5]\n"
     ]
    }
   ],
   "source": [
    "# find duplicates in an array\n",
    "\n",
    "l = [1,1,2,3,4,4,5,5]\n",
    "duplicate = []\n",
    "for i in l:\n",
    "    if(l.count(i)>1 and i not in duplicate):\n",
    "        duplicate.append(i)\n",
    "print('Output:\\n',duplicate)"
   ]
  },
  {
   "cell_type": "code",
   "execution_count": 6,
   "metadata": {},
   "outputs": [
    {
     "name": "stdout",
     "output_type": "stream",
     "text": [
      "Output:\n",
      " [3, 4, 5, 1, 2]\n"
     ]
    }
   ],
   "source": [
    "# rotate array to left d items\n",
    "\n",
    "l = [1,2,3,4,5]\n",
    "rotate = 2\n",
    "for i in range(0,rotate):\n",
    "    temp = l[0]\n",
    "    for j in range(0,len(l)-1):\n",
    "        l[j] = l[j+1]\n",
    "    l[len(l)-1] = temp\n",
    "print('Output:\\n',l)"
   ]
  },
  {
   "cell_type": "code",
   "execution_count": 7,
   "metadata": {},
   "outputs": [
    {
     "name": "stdout",
     "output_type": "stream",
     "text": [
      "3\n",
      "8\n",
      "3\n",
      "8\n"
     ]
    }
   ],
   "source": [
    "# find intersection of 2 sorted array\n",
    "\n",
    "a = [1,2,3,4,5,8]\n",
    "b = [3,6,7,8]\n",
    "\n",
    "for i in a:\n",
    "    if(i in b):\n",
    "        print(i)\n",
    "        \n",
    "# alternative\n",
    "i=j=0\n",
    "while(i<len(a) and j<len(b)):\n",
    "    if(a[i]==b[j]):\n",
    "        print(a[i])\n",
    "        i+=1\n",
    "        j+=1\n",
    "    elif(a[i]>b[j]):\n",
    "        j+=1\n",
    "    else:\n",
    "        i+=1"
   ]
  },
  {
   "cell_type": "code",
   "execution_count": 8,
   "metadata": {},
   "outputs": [
    {
     "name": "stdout",
     "output_type": "stream",
     "text": [
      "Output:\n",
      " [7, 9, 11] \n",
      " 3 5\n",
      "Output:\n",
      " 5 6\n"
     ]
    }
   ],
   "source": [
    "# find continuous subarray with a given sum(given non-negative numbers)\n",
    "# return the starting and ending index of the subarray\n",
    "# return 1st subarray in case of multiple\n",
    "\n",
    "l = [1,22,13,7,9,11,10]\n",
    "s = 27\n",
    "for i in range(len(l)):\n",
    "    subarray = []\n",
    "    for j in range(i,len(l)):\n",
    "        subarray.append(l[j])\n",
    "        if(sum(subarray)==s):\n",
    "            print('Output:\\n',subarray,'\\n',l.index(subarray[0]),l.index(subarray[-1]))\n",
    "            break\n",
    "            \n",
    "# alternative\n",
    "s = 21\n",
    "d = {}\n",
    "curr_sum = 0\n",
    "for i in range(len(l)):\n",
    "    curr_sum = curr_sum + l[i]\n",
    "    if((curr_sum-s) in d):\n",
    "        print('Output:\\n',d[curr_sum-s]+1,i)\n",
    "        break\n",
    "    d[curr_sum] = i"
   ]
  },
  {
   "cell_type": "code",
   "execution_count": 9,
   "metadata": {},
   "outputs": [
    {
     "name": "stdout",
     "output_type": "stream",
     "text": [
      "Output:\n",
      " 5\n",
      "Output:\n",
      " 5\n",
      "Output:\n",
      " 5\n"
     ]
    }
   ],
   "source": [
    "# find element with left side smaller right side greater in an array\n",
    "\n",
    "l = [3,1,2,5,8,7,9]\n",
    "for i in range(1,len(l)-1):\n",
    "    flag = True\n",
    "    for j in range(0,i):\n",
    "        if(l[j]>l[i]):\n",
    "            flag = False\n",
    "    for k in range(i+1,len(l)):\n",
    "        if(l[k]<l[i]):\n",
    "            flag = False\n",
    "    if(flag==True):\n",
    "        print('Output:\\n',l[i])\n",
    "        \n",
    "# alternative\n",
    "for i in range(1,len(l)-1):\n",
    "    if(max(l[:i])<l[i]<min(l[i+1:])):\n",
    "        print('Output:\\n',l[i])\n",
    "        \n",
    "# alternative\n",
    "max_arr = []\n",
    "min_arr = []\n",
    "max_val = l[0]\n",
    "min_val = l[-1]\n",
    "for i in l:\n",
    "    if(i>max_val):\n",
    "        max_val = i\n",
    "    max_arr.append(max_val)\n",
    "for i in range(len(l)-1,-1,-1):\n",
    "    if(l[i]<min_val):\n",
    "        min_val = l[i]\n",
    "    min_arr.insert(0,min_val)\n",
    "for i in range(1,len(l)-1):\n",
    "    if(max_arr[i-1]<l[i]<min_arr[i+1]):\n",
    "        print('Output:\\n',l[i])"
   ]
  },
  {
   "cell_type": "code",
   "execution_count": 10,
   "metadata": {},
   "outputs": [
    {
     "name": "stdout",
     "output_type": "stream",
     "text": [
      "Output:\n",
      " [4, 7, -1, 6, -11, 14, 3, -1, -6]\n",
      "Output:\n",
      " [4, 7, -1, 6, -11, 14, 3, -1, -6]\n"
     ]
    }
   ],
   "source": [
    "# maximum sum subarray\n",
    "\n",
    "l = [-2,4,7,-1,6,-11,14,3,-1,-6]\n",
    "d = {}\n",
    "for i in range(0,len(l)):\n",
    "    subarray = []\n",
    "    for j in range(i,len(l)):\n",
    "        subarray.append(l[j])\n",
    "        d[sum(subarray)] = subarray\n",
    "max_val = max(d.keys())\n",
    "for i in d:\n",
    "    if(i==max_val):\n",
    "        print('Output:\\n',d[i])\n",
    "        \n",
    "# alternative\n",
    "curr_sum = 0\n",
    "curr_seq = []\n",
    "best_sum = l[0]\n",
    "best_seq = []\n",
    "for i in l:\n",
    "    if(i+curr_sum>i):\n",
    "        curr_sum = curr_sum + i\n",
    "        curr_seq.append(i)\n",
    "    else:\n",
    "        curr_sum = i\n",
    "        curr_seq.clear()\n",
    "        curr_seq.append(i)\n",
    "    if(curr_sum>best_sum):\n",
    "        best_sum = curr_sum\n",
    "        best_seq = curr_seq\n",
    "print('Output:\\n',best_seq)"
   ]
  },
  {
   "cell_type": "code",
   "execution_count": 11,
   "metadata": {},
   "outputs": [],
   "source": [
    "# sort arrays with items 1 and 0"
   ]
  },
  {
   "cell_type": "code",
   "execution_count": 12,
   "metadata": {},
   "outputs": [],
   "source": [
    "# move all -ve numbers to the end"
   ]
  },
  {
   "cell_type": "code",
   "execution_count": 13,
   "metadata": {},
   "outputs": [],
   "source": [
    "# maximum product subarray"
   ]
  },
  {
   "cell_type": "code",
   "execution_count": 14,
   "metadata": {},
   "outputs": [],
   "source": [
    "# find union of 2 arrays"
   ]
  },
  {
   "cell_type": "code",
   "execution_count": 15,
   "metadata": {},
   "outputs": [],
   "source": [
    "# find pythagorean triplets in an array"
   ]
  }
 ],
 "metadata": {
  "kernelspec": {
   "display_name": "Python 3",
   "language": "python",
   "name": "python3"
  },
  "language_info": {
   "codemirror_mode": {
    "name": "ipython",
    "version": 3
   },
   "file_extension": ".py",
   "mimetype": "text/x-python",
   "name": "python",
   "nbconvert_exporter": "python",
   "pygments_lexer": "ipython3",
   "version": "3.9.1"
  }
 },
 "nbformat": 4,
 "nbformat_minor": 4
}
