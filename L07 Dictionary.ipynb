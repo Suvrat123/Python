{
 "cells": [
  {
   "cell_type": "code",
   "execution_count": null,
   "metadata": {},
   "outputs": [],
   "source": [
    "# Key with maximum unique values\n",
    "# Given a dictionary with values list, extract key whose value has most unique values.\n",
    "# Input:\n",
    "# test_dict = {\"CampusX\" : [5, 7, 9, 4, 0], \"is\" : [6, 7, 4, 3, 3], \"Best\" : [9, 9, 6, 5, 5]}\n",
    "# Output:\n",
    "# CampusX\n",
    "# Input:\n",
    "# test_dict = {\"CampusX\" : [5, 7, 7, 7, 7], \"is\" : [6, 7, 7, 7], \"Best\" : [9, 9, 6, 5, 5]}\n",
    "# Output:\n",
    "# Best\n",
    "\n",
    "test_dict = {\"CampusX\" : [5, 7, 9, 4, 0], \"is\" : [6, 7, 4, 3, 3], \"Best\" : [9, 9, 6, 5, 5]}\n",
    "max = 0\n",
    "max_key = ''\n",
    "for key in test_dict:\n",
    "    if(len(set(test_dict[key]))>max):\n",
    "        max = len(set(test_dict[key]))\n",
    "        max_key = key\n",
    "print('Output:\\n',max_key)"
   ]
  },
  {
   "cell_type": "code",
   "execution_count": null,
   "metadata": {},
   "outputs": [],
   "source": [
    "# Replace words from Dictionary. Given String, replace it’s words from lookup dictionary.\n",
    "# Input:\n",
    "# test_str = 'CampusX best for DS students.'\n",
    "# repl_dict = {\"best\" : \"is the best channel\", \"DS\" : \"Data-Science\"}\n",
    "# Output:\n",
    "# CampusX is the best channel for Data-Science students.\n",
    "# Input:\n",
    "# test_str = 'CampusX best for DS students.'\n",
    "# repl_dict = {\"good\" : \"is the best channel\", \"ds\" : \"Data-Science\"}\n",
    "# Output:\n",
    "# CampusX best for DS students\n",
    "\n",
    "test_str = 'CampusX best for DS students.'\n",
    "repl_dict = {\"best\" : \"is the best channel\", \"DS\" : \"Data-Science\"}\n",
    "result = ''\n",
    "for i in test_str.split(' '):\n",
    "    if(i in repl_dict):\n",
    "        result = result + repl_dict[i] + ' '\n",
    "    else:\n",
    "        result = result + i + ' '\n",
    "result"
   ]
  },
  {
   "cell_type": "code",
   "execution_count": null,
   "metadata": {},
   "outputs": [],
   "source": [
    "# Convert List to List of dictionaries. Given list values and keys list, convert these values to key value pairs in form of \n",
    "# list of dictionaries.\n",
    "# Input:\n",
    "# test_list = [\"DataScience\", 3, \"is\", 8]\n",
    "# key_list = [\"name\", \"id\"]\n",
    "# Output:\n",
    "# [{'name': 'DataScience', 'id': 3}, {'name': 'is', 'id': 8}]\n",
    "# Input:\n",
    "# test_list = [\"CampusX\", 10]\n",
    "# key_list = [\"name\", \"id\"]\n",
    "# Output:\n",
    "# [{'name': 'CampusX', 'id': 10}]\n",
    "\n",
    "test_list = [\"DataScience\", 3, \"is\", 8]\n",
    "key_list = [\"name\", \"id\"]\n",
    "n = len(test_list)\n",
    "result = []\n",
    "for i in range(0,n,2):\n",
    "    result.append({key_list[0]:test_list[i],key_list[1]:test_list[i+1]})\n",
    "print('Output:\\n',result)"
   ]
  },
  {
   "cell_type": "code",
   "execution_count": null,
   "metadata": {},
   "outputs": [],
   "source": [
    "# Convert a list of Tuples into Dictionary.\n",
    "# Input:\n",
    "# [(\"akash\", 10), (\"gaurav\", 12), (\"anand\", 14), (\"suraj\", 20), (\"akhil\", 25), (\"ashish\", 30)]\n",
    "# Output:\n",
    "# {'akash': [10], 'gaurav': [12], 'anand': [14], 'suraj': [20], 'akhil': [25], 'ashish': [30]}\n",
    "# Input:\n",
    "# [('A', 1), ('B', 2), ('C', 3)]\n",
    "# Output:\n",
    "# {'A': [1], 'B': [2], 'C': [3]}\n",
    "\n",
    "tup1 = [(\"akash\", 10), (\"gaurav\", 12), (\"anand\", 14), (\"suraj\", 20), (\"akhil\", 25), (\"ashish\", 30)]\n",
    "d = {}\n",
    "for i,j in tup1:\n",
    "    d[i] = [j]  \n",
    "print('Output:\\n',d)"
   ]
  },
  {
   "cell_type": "code",
   "execution_count": null,
   "metadata": {},
   "outputs": [],
   "source": [
    "# Sort Dictionary key and values List.\n",
    "# Input:\n",
    "# {'c': [3], 'b': [12, 10], 'a': [19, 4]}\n",
    "# Output:\n",
    "# {'a': [4, 19], 'b': [10, 12], 'c': [3]}\n",
    "# Input:\n",
    "# {'c': [10, 34, 3]}\n",
    "# Output:\n",
    "# {'c': [3, 10, 34]}\n",
    "\n",
    "d1 = {'c': [3], 'b': [12, 10], 'a': [19, 4]}\n",
    "result = {}\n",
    "for i in sorted(d1):\n",
    "    result[i] = sorted(d1[i])\n",
    "print('Output:\\n',result)"
   ]
  }
 ],
 "metadata": {
  "kernelspec": {
   "display_name": "Python 3",
   "language": "python",
   "name": "python3"
  },
  "language_info": {
   "codemirror_mode": {
    "name": "ipython",
    "version": 3
   },
   "file_extension": ".py",
   "mimetype": "text/x-python",
   "name": "python",
   "nbconvert_exporter": "python",
   "pygments_lexer": "ipython3",
   "version": "3.9.1"
  }
 },
 "nbformat": 4,
 "nbformat_minor": 4
}
