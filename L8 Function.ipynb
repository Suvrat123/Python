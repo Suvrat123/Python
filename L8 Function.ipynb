{
 "cells": [
  {
   "cell_type": "code",
   "execution_count": 1,
   "metadata": {},
   "outputs": [
    {
     "name": "stdout",
     "output_type": "stream",
     "text": [
      "Output:\n",
      " [1, 2, 3, 4, 5]\n"
     ]
    }
   ],
   "source": [
    "# Write a Python function that takes a list and returns a new list with unique elements of the first list.\n",
    "# Input:\n",
    "# [1,2,3,3,3,3,4,5]\n",
    "# Output:\n",
    "# [1, 2, 3, 4, 5]\n",
    "\n",
    "def return_unique(li):\n",
    "    return list(set(li))\n",
    "li = [1,2,3,3,3,3,4,5]\n",
    "result = return_unique(li)\n",
    "print('Output:\\n',result)"
   ]
  },
  {
   "cell_type": "code",
   "execution_count": 2,
   "metadata": {},
   "outputs": [
    {
     "name": "stdout",
     "output_type": "stream",
     "text": [
      "Output:\n",
      " black-green-red-white-yellow\n"
     ]
    }
   ],
   "source": [
    "# Write a Python function that accepts a hyphen-separated sequence of words as parameter and returns the words in a hyphen-\n",
    "# separated sequence after sorting them alphabetically.\n",
    "# Input:\n",
    "# green-red-yellow-black-white\n",
    "# Output:\n",
    "# black-green-red-white-yellow\n",
    "\n",
    "def sort_sequence(str1):\n",
    "    s1 ='-'.join(sorted(str1.split('-')))\n",
    "    return s1\n",
    "str1 = 'green-red-yellow-black-white'\n",
    "result = sort_sequence(str1)\n",
    "print('Output:\\n',result)"
   ]
  },
  {
   "cell_type": "code",
   "execution_count": 3,
   "metadata": {},
   "outputs": [
    {
     "name": "stdout",
     "output_type": "stream",
     "text": [
      "No.of Upper case characters : 9\n",
      "No.of Lower case characters : 47\n"
     ]
    }
   ],
   "source": [
    "# Write a Python function that accepts a string and calculate the number of upper case letters and lower case letters.\n",
    "# Sample String : 'CampusX is an Online Mentorship Program fOr EnginEering studentS.'\n",
    "# Expected Output :\n",
    "# No. of Upper case characters :  9\n",
    "# No. of Lower case Characters :  47\n",
    "\n",
    "def count_lower_upper(str1):\n",
    "    d = {'Upper':0,'Lower':0}\n",
    "    for i in str1:\n",
    "        if(i.isupper()):\n",
    "            d['Upper'] += 1\n",
    "        elif(i.islower()):\n",
    "            d['Lower'] += 1\n",
    "    return d\n",
    "str1 = 'CampusX is an Online Mentorship Program fOr EnginEering studentS.'\n",
    "result = count_lower_upper(str1)\n",
    "print('No.of Upper case characters : {0}\\nNo.of Lower case characters : {1}'.format(result['Upper'],result['Lower']))"
   ]
  },
  {
   "cell_type": "code",
   "execution_count": 4,
   "metadata": {},
   "outputs": [
    {
     "name": "stdout",
     "output_type": "stream",
     "text": [
      "Output:\n",
      " [2, 4, 6, 8]\n"
     ]
    }
   ],
   "source": [
    "# Write a Python program to print the even numbers from a given list.\n",
    "# Sample List : [1, 2, 3, 4, 5, 6, 7, 8, 9]\n",
    "# Expected Result : [2, 4, 6, 8]\n",
    "\n",
    "def is_even(li):\n",
    "    l = []\n",
    "    for i in li:\n",
    "        if(i%2==0):\n",
    "            l.append(i)\n",
    "    return l\n",
    "li = [1, 2, 3, 4, 5, 6, 7, 8, 9]\n",
    "result = is_even(li)\n",
    "print('Output:\\n',result)"
   ]
  },
  {
   "cell_type": "code",
   "execution_count": 5,
   "metadata": {},
   "outputs": [
    {
     "name": "stdout",
     "output_type": "stream",
     "text": [
      "Output:\n",
      " Perfect Number\n"
     ]
    }
   ],
   "source": [
    "# Write a Python function to check whether a number is perfect or not.\n",
    "# A Perfect number is a number that is half the sum of all of its positive divisors (including itself).\n",
    "# The first perfect number is 6, because 1, 2, and 3 are its proper positive divisors, and 1 + 2 + 3 = 6. \n",
    "# Equivalently, the number 6 is equal to half the sum of all its positive divisors: ( 1 + 2 + 3 + 6 ) / 2 = 6. \n",
    "# The next perfect number is 28 = 1 + 2 + 4 + 7 + 14. This is followed by the perfect numbers 496 and 8128.\n",
    "\n",
    "def perfect_number(num):\n",
    "    s1 = 0\n",
    "    for i in range(1,num//2+1):\n",
    "        if(num%i==0):\n",
    "            s1 += i\n",
    "    if(s1==num):\n",
    "        return 'Perfect Number'\n",
    "    else:\n",
    "        return 'Not Perfect Number'\n",
    "result = perfect_number(6)\n",
    "print('Output:\\n',result)"
   ]
  },
  {
   "cell_type": "code",
   "execution_count": 6,
   "metadata": {},
   "outputs": [
    {
     "name": "stdout",
     "output_type": "stream",
     "text": [
      "({1: 10, 2: 20}, {3: 30, 4: 40}, {5: 50, 6: 60})\n",
      "Output:\n",
      " {1: 10, 2: 20, 3: 30, 4: 40, 5: 50, 6: 60}\n"
     ]
    }
   ],
   "source": [
    "# Write a Python function to concatenate any no of dictionaries to create a new one.\n",
    "# Sample Dictionary :\n",
    "# dic1={1:10, 2:20}\n",
    "# dic2={3:30, 4:40}\n",
    "# dic3={5:50,6:60}\n",
    "# Expected Result : {1: 10, 2: 20, 3: 30, 4: 40, 5: 50, 6: 60}\n",
    "\n",
    "def merge_dict(*args):\n",
    "    d = {}\n",
    "    print(args)\n",
    "    for i in args:\n",
    "        d.update(i)\n",
    "    return d\n",
    "dic1={1:10, 2:20}\n",
    "dic2={3:30, 4:40}\n",
    "dic3={5:50,6:60}\n",
    "result = merge_dict(dic1,dic2,dic3)\n",
    "print('Output:\\n',result)"
   ]
  },
  {
   "cell_type": "code",
   "execution_count": 7,
   "metadata": {},
   "outputs": [
    {
     "name": "stdout",
     "output_type": "stream",
     "text": [
      "Output:\n",
      " you -> 2\n"
     ]
    }
   ],
   "source": [
    "# Write a python function that accepts a string as input and returns the word with most occurence.\n",
    "# Input:\n",
    "# hello how are you i am fine thank you\n",
    "# Output\n",
    "# you -> 2\n",
    "def most_occurence(str1):\n",
    "    d = {}\n",
    "    for i in str1.split(' '):\n",
    "        d[i] = str1.split(' ').count(i)\n",
    "    return d\n",
    "str1 = 'hello how are you i am fine thank you'\n",
    "result = most_occurence(str1)\n",
    "print('Output:\\n',max(result),'->',result[max(result)])"
   ]
  },
  {
   "cell_type": "code",
   "execution_count": 8,
   "metadata": {},
   "outputs": [
    {
     "name": "stdout",
     "output_type": "stream",
     "text": [
      "Output:\n",
      " {'11-20': 2, '21-30': 1, '31-40': 2, '41-50': 3}\n"
     ]
    }
   ],
   "source": [
    "# Write a python function that receives a list of integers and prints out a histogram of bin size 10\n",
    "# Input:\n",
    "# [13,42,15,37,22,39,41,50]\n",
    "# Output:\n",
    "# {11-20:2,21-30:1,31-40:2,41-50:3}\n",
    "\n",
    "from math import ceil,floor\n",
    "def bin(li,bin_size=10):\n",
    "    d = {}\n",
    "    width = ceil((max(li)-min(li))/bin_size)\n",
    "    for i in range(width):\n",
    "        for j in range(floor(min(li)/10)*10+1,ceil(max(li)/10)*10+1,bin_size):\n",
    "            d[f'{j}-{j+bin_size-1}']  = len(list(filter(lambda x:x if x in range(j,j+bin_size) else 0,li)))\n",
    "    return d\n",
    "li = [13,42,15,37,22,39,41,50]\n",
    "result = bin(li,bin_size=10)\n",
    "print('Output:\\n',result)"
   ]
  },
  {
   "cell_type": "code",
   "execution_count": 9,
   "metadata": {},
   "outputs": [
    {
     "name": "stdout",
     "output_type": "stream",
     "text": [
      "Output:\n",
      " (1, 1)\n"
     ]
    }
   ],
   "source": [
    "# Write a python function that accepts a list of 2D co-ordinates and a query point, and then finds the the co-ordinate which is \n",
    "# closest in terms of distance from the query point.\n",
    "# List of Coordinates\n",
    "# [(1,1),(2,2),(3,3),(4,4)]\n",
    "# Query Point\n",
    "# (0,0)\n",
    "# Output\n",
    "# Nearest to (0,0) is (1,1)\n",
    "\n",
    "def shortest_distance(query_point,point):\n",
    "    distance = []\n",
    "    for i in range(len(point)):\n",
    "        dis = ((query_point[0] - point[i][0])**2 + (query_point[1] - point[i][1])**2)**0.5\n",
    "        distance.append(dis)\n",
    "    index = distance.index(min(distance))\n",
    "    return index\n",
    "query_point =  (0,0)\n",
    "point = [(1,1),(2,2),(3,3),(4,4)]\n",
    "result = shortest_distance(query_point,point)\n",
    "print('Output:\\n',point[result])"
   ]
  },
  {
   "cell_type": "code",
   "execution_count": 10,
   "metadata": {},
   "outputs": [
    {
     "name": "stdout",
     "output_type": "stream",
     "text": [
      "Output:\n",
      " [[0, 2, 1, 0, 1, 0, 0], [1, 1, 1, 0, 0, 1, 1], [0, 1, 1, 1, 1, 0, 0]]\n"
     ]
    }
   ],
   "source": [
    "# Write a python program that receives a list of strings and performs bag of word operation on those strings\n",
    "# https://en.wikipedia.org/wiki/Bag-of-words_model\n",
    "\n",
    "def bag_of_words(l):\n",
    "    vocab = set()\n",
    "    result = []\n",
    "    for i in l:\n",
    "        vocab.update(i.split())\n",
    "    for i in l:\n",
    "        result.append([])\n",
    "        for j in vocab:\n",
    "            result[-1].append(i.count(j))\n",
    "    return result       \n",
    "\n",
    "l = ['cat mat rat cat','sat bat fat cat rat','pat cat mat rat']\n",
    "result = bag_of_words(l)\n",
    "print('Output:\\n',result)"
   ]
  },
  {
   "cell_type": "code",
   "execution_count": 11,
   "metadata": {},
   "outputs": [
    {
     "name": "stdout",
     "output_type": "stream",
     "text": [
      "Output:\n",
      " [12, 15, 18]\n"
     ]
    }
   ],
   "source": [
    "# Write a Python program to add three given lists using Python map and lambda.\n",
    "\n",
    "l1 = [1,2,3]\n",
    "l2 = [4,5,6]\n",
    "l3 = [7,8,9]\n",
    "result = list(map(lambda x,y,z:x+y+z,l1,l2,l3))\n",
    "print('Output:\\n',result)"
   ]
  },
  {
   "cell_type": "code",
   "execution_count": 12,
   "metadata": {},
   "outputs": [
    {
     "name": "stdout",
     "output_type": "stream",
     "text": [
      "Output:\n",
      " [1, 2, 9, 64, 625, 7776]\n"
     ]
    }
   ],
   "source": [
    "# Write a Python program to create a list containing the power of said number in bases raised to the corresponding \n",
    "# number in the index using Python map.\n",
    "# Input:\n",
    "# list1 = [1,2,3,4,5,6]\n",
    "# Output:\n",
    "# [1,2,9,64,625,-]\n",
    "\n",
    "list1 = [1,2,3,4,5,6]\n",
    "result = list(map(lambda x:x**list1.index(x),list1))\n",
    "print('Output:\\n',result)"
   ]
  },
  {
   "cell_type": "code",
   "execution_count": 13,
   "metadata": {},
   "outputs": [
    {
     "name": "stdout",
     "output_type": "stream",
     "text": [
      "Output:\n",
      " ['a', 'u', 'i', 'a', 'O', 'i', 'e', 'e', 'o', 'i', 'o', 'a', 'O', 'E', 'i', 'E', 'e', 'i', 'u', 'e']\n"
     ]
    }
   ],
   "source": [
    "# Using filter() and list() functions and .lower() method filter all the vowels in a given string.\n",
    "\n",
    "str1 = 'CampusX is an Online Mentorship Program fOr EnginEering studentS.'\n",
    "result = list(filter(lambda x:True if x.lower() in 'aeiou' else False,str1))\n",
    "print('Output:\\n',result)"
   ]
  },
  {
   "cell_type": "code",
   "execution_count": 14,
   "metadata": {},
   "outputs": [
    {
     "name": "stdout",
     "output_type": "stream",
     "text": [
      "Output:\n",
      " [1, 2, 3, 3, 6, 7, 7, 5, 4]\n"
     ]
    }
   ],
   "source": [
    "# Use reduce to convert a 2D list to 1D\n",
    "\n",
    "from functools import reduce\n",
    "li = [[1,2,3],[3,6,7],[7,5,4]]\n",
    "result = reduce(lambda x,y:x+y,li)\n",
    "print('Output:\\n',result)"
   ]
  },
  {
   "cell_type": "code",
   "execution_count": 15,
   "metadata": {},
   "outputs": [
    {
     "name": "stdout",
     "output_type": "stream",
     "text": [
      "Output:\n",
      " ['Neha Singh', 'Abhinav Sharma']\n"
     ]
    }
   ],
   "source": [
    "# A dictionary contains following information about 5 employees:\n",
    "# First name\n",
    "# Last name\n",
    "# Age\n",
    "# Grade(Skilled,Semi-skilled,Highly skilled)\n",
    "# Write a program using map/filter/reduce to a list of employees(first name + last name) who are highly skilled\n",
    "# employees = [{'fname':'Nitish','lname':'Singh','age' : 33,'grade':'skilled'},{'fname':'Ankit','lname':'Verma','age' : 34,\n",
    "# 'grade':'semi-skilled'},{'fname':'Neha','lname':'Singh','age' : 35,'grade':'highly-skilled'},{'fname':'Anurag',\n",
    "# 'lname':'Kumar','age' : 30,'grade':'skilled'},{'fname':'Abhinav','lname':'Sharma','age' : 37,'grade':'highly-skilled'}]\n",
    "\n",
    "employees = [\n",
    "    {\n",
    "        'fname':'Nitish',\n",
    "        'lname':'Singh',\n",
    "        'age' : 33,\n",
    "        'grade':'skilled'\n",
    "    },\n",
    "    {\n",
    "        'fname':'Ankit',\n",
    "        'lname':'Verma',\n",
    "        'age' : 34,\n",
    "        'grade':'semi-skilled'\n",
    "    },\n",
    "    {\n",
    "        'fname':'Neha',\n",
    "        'lname':'Singh',\n",
    "        'age' : 35,\n",
    "        'grade':'highly-skilled'\n",
    "    },\n",
    "    {'fname':'Anurag',\n",
    "     'lname':'Kumar',\n",
    "     'age' : 30,\n",
    "     'grade':'skilled'\n",
    "    },\n",
    "    {\n",
    "        'fname':'Abhinav',\n",
    "        'lname':'Sharma',\n",
    "        'age' : 37,\n",
    "        'grade':'highly-skilled'\n",
    "    }\n",
    "]\n",
    "\n",
    "result = list(map(lambda x:x['fname']+ ' '+ x['lname'],list(filter(lambda x:True if x['grade']=='highly-skilled' else False,\n",
    "                                                                     employees))))\n",
    "print('Output:\\n',result)"
   ]
  }
 ],
 "metadata": {
  "kernelspec": {
   "display_name": "Python 3",
   "language": "python",
   "name": "python3"
  },
  "language_info": {
   "codemirror_mode": {
    "name": "ipython",
    "version": 3
   },
   "file_extension": ".py",
   "mimetype": "text/x-python",
   "name": "python",
   "nbconvert_exporter": "python",
   "pygments_lexer": "ipython3",
   "version": "3.9.1"
  }
 },
 "nbformat": 4,
 "nbformat_minor": 4
}
