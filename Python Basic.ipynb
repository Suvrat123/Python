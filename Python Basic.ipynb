{
 "cells": [
  {
   "cell_type": "markdown",
   "metadata": {},
   "source": [
    "## Fundamentals of Python"
   ]
  },
  {
   "cell_type": "code",
   "execution_count": 1,
   "metadata": {},
   "outputs": [
    {
     "name": "stdout",
     "output_type": "stream",
     "text": [
      "DataScience-Membership-Program-Started-By-Campusx\n"
     ]
    }
   ],
   "source": [
    "# Print the given string as per stated format\n",
    "# DataScience-Mentorship-Program-Started-By-CampusX\n",
    "\n",
    "print('DataScience','Membership','Program','Started','By','Campusx',sep='-')"
   ]
  },
  {
   "cell_type": "code",
   "execution_count": 2,
   "metadata": {
    "scrolled": true
   },
   "outputs": [
    {
     "name": "stdout",
     "output_type": "stream",
     "text": [
      "Temperature in Fahrenheit :  -40.0\n"
     ]
    }
   ],
   "source": [
    "# Write a program that will convert celcius value to fahrenheit\n",
    "\n",
    "celcius = -40\n",
    "fahrenheit = celcius*9/5+32\n",
    "print(\"Temperature in Fahrenheit : \",fahrenheit)"
   ]
  },
  {
   "cell_type": "code",
   "execution_count": 3,
   "metadata": {},
   "outputs": [
    {
     "name": "stdout",
     "output_type": "stream",
     "text": [
      "First Number : 10\n",
      "Second Number : 5\n",
      "Before Swaping\n",
      "a:10 and b:5\n",
      "After Swaping\n",
      "a:5 and b:10\n"
     ]
    }
   ],
   "source": [
    "# Take two number as input from the user.Write a program to swap two number without using any special python syntax.\n",
    "\n",
    "a = int(input(\"First Number : \"))\n",
    "b = int(input(\"Second Number : \"))\n",
    "print(\"Before Swaping\")\n",
    "print(f\"a:{a} and b:{b}\")\n",
    "temp = a \n",
    "a = b\n",
    "b = temp\n",
    "print(\"After Swaping\")\n",
    "print(f\"a:{a} and b:{b}\")"
   ]
  },
  {
   "cell_type": "code",
   "execution_count": 4,
   "metadata": {},
   "outputs": [
    {
     "name": "stdout",
     "output_type": "stream",
     "text": [
      "x1 : 0\n",
      "y1 : 0\n",
      "x2 : 3\n",
      "y2 : 4\n",
      "P((0.0, 0.0)) and Q((3.0, 4.0))\n",
      "Distance Between P and Q is 5.0\n"
     ]
    }
   ],
   "source": [
    "# Write a program to find euclidean distance between two coordinates.Take both coordinates from the user as input.\n",
    "\n",
    "x1 = float(input(\"x1 : \"))\n",
    "y1 = float(input(\"y1 : \"))\n",
    "x2 = float(input(\"x2 : \"))\n",
    "y2 = float(input(\"y2 : \"))\n",
    "print(f\"P({x1,y1}) and Q({x2,y2})\")\n",
    "d = round(((x2-x1)**2+(y2-y1)**2)**0.5,2)\n",
    "print(f\"Distance Between P and Q is {d}\")"
   ]
  },
  {
   "cell_type": "code",
   "execution_count": 5,
   "metadata": {},
   "outputs": [
    {
     "name": "stdout",
     "output_type": "stream",
     "text": [
      "Principal Amount : 10000\n",
      "Rate of Interest : 10\n",
      "Time Period : 5\n",
      "Simple Interest : 5000.0\n"
     ]
    }
   ],
   "source": [
    "# Write a program to find simple interest when the of value of principal,rate of interest and time period is given by the \n",
    "# user.\n",
    "\n",
    "principal = float(input(\"Principal Amount : \"))\n",
    "roi = float(input(\"Rate of Interest : \"))\n",
    "time = float(input(\"Time Period : \"))\n",
    "si = principal*roi*time*0.01\n",
    "print(f\"Simple Interest : {si}\")"
   ]
  },
  {
   "cell_type": "code",
   "execution_count": 6,
   "metadata": {},
   "outputs": [
    {
     "name": "stdout",
     "output_type": "stream",
     "text": [
      "Number of heads : 20\n",
      "Number of legs : 50\n",
      "Number of Dogs : 5.0 and Number of Chicken :15.0\n"
     ]
    }
   ],
   "source": [
    "# Write a program that will tell the number of dogs and chicken are there when the user will provide the value of total heads \n",
    "# and legs.\n",
    "\n",
    "heads = int(input(\"Number of heads : \"))\n",
    "legs  = int(input(\"Number of legs : \"))\n",
    "n_dogs,n_chicken =  (legs-2*heads)/2,(4*heads-legs)/2\n",
    "print(f\"Number of Dogs : {n_dogs} and Number of Chicken :{n_chicken}\")"
   ]
  },
  {
   "cell_type": "code",
   "execution_count": 7,
   "metadata": {},
   "outputs": [
    {
     "name": "stdout",
     "output_type": "stream",
     "text": [
      "Number of Term : 5\n",
      "Sum of Square of First 5 Natural Number is 55.0\n"
     ]
    }
   ],
   "source": [
    "# Write a program to find sum of squares of first n natural number where n will be provided by the user\n",
    "\n",
    "n = int(input(\"Number of Term : \"))\n",
    "sum = n*(n+1)*(2*n+1)/6\n",
    "print(f\"Sum of Square of First {n} Natural Number is {sum}\")"
   ]
  },
  {
   "cell_type": "code",
   "execution_count": 8,
   "metadata": {},
   "outputs": [
    {
     "name": "stdout",
     "output_type": "stream",
     "text": [
      "First Term : 2\n",
      "Common Difference : 3\n",
      "Term : 5\n",
      "Nth Term : 14.0\n"
     ]
    }
   ],
   "source": [
    "# Given the first term of an Arithmetic Series.Find the nth term of the series.Assume all inputs are provided by the user.\n",
    "\n",
    "a1 = float(input(\"First Term : \"))\n",
    "d  = float(input(\"Common Difference : \"))\n",
    "n = float(input(\"Term : \"))\n",
    "tn = a1+(n-1)*d\n",
    "print(f\"Nth Term : {tn}\")"
   ]
  },
  {
   "cell_type": "code",
   "execution_count": 9,
   "metadata": {},
   "outputs": [
    {
     "name": "stdout",
     "output_type": "stream",
     "text": [
      "Numeartor of fraction1 : 2\n",
      "Denominator of fraction1 : 3\n",
      "Numeartor of fraction2 : 3\n",
      "Denominator of fraction2 : 2\n",
      "Sum of the fraction : 13/6\n"
     ]
    }
   ],
   "source": [
    "# Given two fractions find the sum of those two fractions.Take the numerator and denominator values of the fractions from the \n",
    "# user.\n",
    "\n",
    "num1 = int(input(\"Numeartor of fraction1 : \"))\n",
    "den1 = int(input(\"Denominator of fraction1 : \"))\n",
    "num2 = int(input(\"Numeartor of fraction2 : \"))\n",
    "den2 = int(input(\"Denominator of fraction2 : \"))\n",
    "sn = (num1*den2)+(num2*den1)\n",
    "sd = den1*den2\n",
    "print(f\"Sum of the fraction : {sn}/{sd}\")"
   ]
  },
  {
   "cell_type": "code",
   "execution_count": 10,
   "metadata": {},
   "outputs": [
    {
     "name": "stdout",
     "output_type": "stream",
     "text": [
      "Length of the tank : 10\n",
      "Breadth of the tank : 10\n",
      "Height of the tank : 10\n",
      "Radius of the glass : 5\n",
      "Heigth of the glass : 10\n",
      "Number of glasses obtained : 1\n"
     ]
    }
   ],
   "source": [
    "# Given the length,width and height of a milk tank you have to find out how many glasses of milk can be obtained?Assume all \n",
    "# the inputs are provided by the user.\n",
    "\n",
    "from math import pi\n",
    "length = float(input(\"Length of the tank : \"))\n",
    "breadth = float(input(\"Breadth of the tank : \"))\n",
    "height = float(input(\"Height of the tank : \"))\n",
    "radius = float(input(\"Radius of the glass : \"))\n",
    "height = float(input(\"Heigth of the glass : \"))\n",
    "n_glasses = int((length*breadth*height)/(pi*radius*radius*height))\n",
    "print(f\"Number of glasses obtained : {n_glasses}\")"
   ]
  }
 ],
 "metadata": {
  "kernelspec": {
   "display_name": "Python 3",
   "language": "python",
   "name": "python3"
  },
  "language_info": {
   "codemirror_mode": {
    "name": "ipython",
    "version": 3
   },
   "file_extension": ".py",
   "mimetype": "text/x-python",
   "name": "python",
   "nbconvert_exporter": "python",
   "pygments_lexer": "ipython3",
   "version": "3.9.1"
  }
 },
 "nbformat": 4,
 "nbformat_minor": 4
}
