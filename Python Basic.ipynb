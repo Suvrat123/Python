{
 "cells": [
  {
   "cell_type": "markdown",
   "metadata": {},
   "source": [
    "## Fundamentals of Python"
   ]
  },
  {
   "cell_type": "code",
   "execution_count": null,
   "metadata": {},
   "outputs": [],
   "source": [
    "# Print the given string as per stated format\n",
    "# DataScience-Mentorship-Program-Started-By-CampusX\n",
    "\n",
    "print('DataScience','Membership','Program','Started','By','Campusx',sep='-')"
   ]
  },
  {
   "cell_type": "code",
   "execution_count": null,
   "metadata": {
    "scrolled": true
   },
   "outputs": [],
   "source": [
    "# Write a program that will convert celcius value to fahrenheit\n",
    "\n",
    "celcius = -40\n",
    "fahrenheit = celcius*9/5+32\n",
    "print(\"Temperature in Fahrenheit : \",fahrenheit)"
   ]
  },
  {
   "cell_type": "code",
   "execution_count": null,
   "metadata": {},
   "outputs": [],
   "source": [
    "# Take two number as input from the user.Write a program to swap two number without using any special python syntax.\n",
    "\n",
    "a = int(input(\"First Number : \"))\n",
    "b = int(input(\"Second Number : \"))\n",
    "print(\"Before Swaping\")\n",
    "print(f\"a:{a} and b:{b}\")\n",
    "temp = a \n",
    "a = b\n",
    "b = temp\n",
    "print(\"After Swaping\")\n",
    "print(f\"a:{a} and b:{b}\")"
   ]
  },
  {
   "cell_type": "code",
   "execution_count": null,
   "metadata": {},
   "outputs": [],
   "source": [
    "# Write a program to find euclidean distance between two coordinates.Take both coordinates from the user as input.\n",
    "\n",
    "x1 = float(input(\"x1 : \"))\n",
    "y1 = float(input(\"y1 : \"))\n",
    "x2 = float(input(\"x2 : \"))\n",
    "y2 = float(input(\"y2 : \"))\n",
    "print(f\"P({x1,y1}) and Q({x2,y2})\")\n",
    "d = round(((x2-x1)**2+(y2-y1)**2)**0.5,2)\n",
    "print(f\"Distance Between P and Q is {d}\")"
   ]
  },
  {
   "cell_type": "code",
   "execution_count": null,
   "metadata": {},
   "outputs": [],
   "source": [
    "# Write a program to find simple interest when the of value of principal,rate of interest and time period is given by the \n",
    "# user.\n",
    "\n",
    "principal = float(input(\"Principal Amount : \"))\n",
    "roi = float(input(\"Rate of Interest : \"))\n",
    "time = float(input(\"Time Period : \"))\n",
    "si = principal*roi*time*0.01\n",
    "print(f\"Simple Interest : {si}\")"
   ]
  },
  {
   "cell_type": "code",
   "execution_count": null,
   "metadata": {},
   "outputs": [],
   "source": [
    "# Write a program that will tell the number of dogs and chicken are there when the user will provide the value of total heads \n",
    "# and legs.\n",
    "\n",
    "heads = int(input(\"Number of heads : \"))\n",
    "legs  = int(input(\"Number of legs : \"))\n",
    "n_dogs,n_chicken =  (legs-2*heads)/2,(4*heads-legs)/2\n",
    "print(f\"Number of Dogs : {n_dogs} and Number of Chicken :{n_chicken}\")"
   ]
  },
  {
   "cell_type": "code",
   "execution_count": null,
   "metadata": {},
   "outputs": [],
   "source": [
    "# Write a program to find sum of squares of first n natural number where n will be provided by the user\n",
    "\n",
    "n = int(input(\"Number of Term : \"))\n",
    "sum = n*(n+1)*(2*n+1)/6\n",
    "print(f\"Sum of Square of First {n} Natural Number is {sum}\")"
   ]
  },
  {
   "cell_type": "code",
   "execution_count": null,
   "metadata": {},
   "outputs": [],
   "source": [
    "# Given the first term of an Arithmetic Series.Find the nth term of the series.Assume all inputs are provided by the user.\n",
    "\n",
    "a1 = float(input(\"First Term : \"))\n",
    "d  = float(input(\"Common Difference : \"))\n",
    "n = float(input(\"Term : \"))\n",
    "tn = a1+(n-1)*d\n",
    "print(f\"Nth Term : {tn}\")"
   ]
  },
  {
   "cell_type": "code",
   "execution_count": null,
   "metadata": {},
   "outputs": [],
   "source": [
    "# Given two fractions find the sum of those two fractions.Take the numerator and denominator values of the fractions from the \n",
    "# user.\n",
    "\n",
    "num1 = int(input(\"Numeartor of fraction1 : \"))\n",
    "den1 = int(input(\"Denominator of fraction1 : \"))\n",
    "num2 = int(input(\"Numeartor of fraction2 : \"))\n",
    "den2 = int(input(\"Denominator of fraction2 : \"))\n",
    "sn = (num1*den2)+(num2*den1)\n",
    "sd = den1*den2\n",
    "print(f\"Sum of the fraction : {sn}/{sd}\")"
   ]
  },
  {
   "cell_type": "code",
   "execution_count": null,
   "metadata": {},
   "outputs": [],
   "source": [
    "# Given the length,width and height of a milk tank you have to find out how many glasses of milk can be obtained?Assume all \n",
    "# the inputs are provided by the user.\n",
    "\n",
    "from math import pi\n",
    "length = float(input(\"Length of the tank : \"))\n",
    "breadth = float(input(\"Breadth of the tank : \"))\n",
    "height = float(input(\"Height of the tank : \"))\n",
    "radius = float(input(\"Radius of the glass : \"))\n",
    "height = float(input(\"Heigth of the glass : \"))\n",
    "n_glasses = int((length*breadth*height)/(pi*radius*radius*height))\n",
    "print(f\"Number of glasses obtained : {n_glasses}\")"
   ]
  }
 ],
 "metadata": {
  "kernelspec": {
   "display_name": "Python 3",
   "language": "python",
   "name": "python3"
  },
  "language_info": {
   "codemirror_mode": {
    "name": "ipython",
    "version": 3
   },
   "file_extension": ".py",
   "mimetype": "text/x-python",
   "name": "python",
   "nbconvert_exporter": "python",
   "pygments_lexer": "ipython3",
   "version": "3.9.1"
  }
 },
 "nbformat": 4,
 "nbformat_minor": 4
}
