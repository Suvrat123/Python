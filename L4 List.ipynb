{
 "cells": [
  {
   "cell_type": "code",
   "execution_count": null,
   "metadata": {},
   "outputs": [],
   "source": [
    "# Combine two lists index-wise(columns wise)\n",
    "# Write a program to add two lists index-wise. Create a new list that contains the 0th index item from both the list, then the \n",
    "# 1st index item, and so on till the last element. any leftover items will get added at the end of the new list.\n",
    "# Given List:\n",
    "# list1 = [\"M\", \"na\", \"i\", \"San\"]\n",
    "# list2 = [\"y\", \"me\", \"s\", \"jay\"]\n",
    "# Output:\n",
    "# [['M','y'], ['na', me'], ['i', 's'], ['Kh', 'an']]\n",
    "\n",
    "list1 = [\"M\", \"na\", \"i\", \"San\"]\n",
    "list2 = [\"y\", \"me\", \"s\", \"jay\"]\n",
    "result = [[i,j]for i,j in zip(list1,list2)]\n",
    "print('Output:\\n',result)"
   ]
  },
  {
   "cell_type": "code",
   "execution_count": null,
   "metadata": {},
   "outputs": [],
   "source": [
    "# Add new item to list after a specified item\n",
    "# Write a program to add item 7000 after 6000 in the following Python List\n",
    "# list1 = [10, 20, [300, 400, [5000, 6000], 500], 30, 40]\n",
    "# Output:\n",
    "# [10, 20, [300, 400, [5000, 6000, 7000], 500], 30, 40]\n",
    "\n",
    "list1 = [10, 20, [300, 400, [5000, 6000], 500], 30, 40]\n",
    "list1[2][2].append(7000)\n",
    "print('Output:\\n',list1)"
   ]
  },
  {
   "cell_type": "code",
   "execution_count": null,
   "metadata": {},
   "outputs": [],
   "source": [
    "# Update no of items available\n",
    "# Suppose you are given a list of candy and another list of same size representing no of items of respective candy.\n",
    "# i.e -\n",
    "# candy_list = ['Jelly Belly','Kit Kat','Double Bubble','Milky Way','Three Musketeers']\n",
    "# no_of_items = [10,20,34,74,32]\n",
    "# Write a program to show no. of items of each candy type.\n",
    "# Output:\n",
    "# Jelly Belly-10\n",
    "# Kit Kat-20\n",
    "# Double Bubble-34\n",
    "# Milky Way-74\n",
    "# Three Musketeers-32\n",
    "\n",
    "candy_list = ['Jelly Belly','Kit Kat','Double Bubble','Milky Way','Three Musketeers']\n",
    "no_of_items = [10,20,34,74,32]\n",
    "result = [print(i,'-',j) for i,j in zip(candy_list,no_of_items)]   \n",
    "print('Output:\\n',result)"
   ]
  },
  {
   "cell_type": "code",
   "execution_count": null,
   "metadata": {},
   "outputs": [],
   "source": [
    "# Running Sum on list\n",
    "# Write a program to print a list after performing running sum on it.\n",
    "# i.e:\n",
    "# Input:\n",
    "# list1 = [1,2,3,4,5,6]\n",
    "# Output:\n",
    "# [1,3,6,10,15,21]\n",
    "\n",
    "list1 = [1,2,3,4,5,6]\n",
    "result = []\n",
    "s = 0\n",
    "for i in list1:\n",
    "    s = s + i\n",
    "    result.append(s)\n",
    "print('Output:\\n',result)"
   ]
  },
  {
   "cell_type": "code",
   "execution_count": null,
   "metadata": {},
   "outputs": [],
   "source": [
    "# You are given a list of integers. You are asked to make a list by running through elements of the list by adding all elements \n",
    "# greater and itself.\n",
    "# i.e. Say given list is [2,4,6,10,1] resultant list will be [22,20,10,23].\n",
    "# For 1st element 2 ->> these are greater (4+6+10) values and 2 itself so on adding becomes 22.\n",
    "# For 2nd element 4 ->> greater elements are (6, 10) and 4 itself, so on adding 20\n",
    "# like wise for all other elememts.\n",
    "# [2,4,6,10,1]-->[22,20,16,10,23]\n",
    "\n",
    "list1 = [2,4,6,10,1]\n",
    "result = []\n",
    "for i in list1:\n",
    "    s = 0\n",
    "    for j in list1:\n",
    "        if(j>=i):\n",
    "            s = s + j\n",
    "            continue\n",
    "    result.append(s)\n",
    "print('Output:\\n',result)"
   ]
  },
  {
   "cell_type": "code",
   "execution_count": null,
   "metadata": {},
   "outputs": [],
   "source": [
    "# Find list of common unique items from two list. and show in increasing order\n",
    "# Input\n",
    "# num1 = [23,45,67,78,89,34]\n",
    "# num2 = [34,89,55,56,39,67]\n",
    "# Output:\n",
    "# [34, 67, 89]\n",
    "\n",
    "num1 = [23,45,67,78,89,34]\n",
    "num2 = [34,89,55,56,39,67]\n",
    "num1 = num1 + num2\n",
    "result = []\n",
    "[result.append(i) for i in num1 if(num1.count(i)>1 and i not in result)]\n",
    "print('Output:\\n',sorted(result))"
   ]
  },
  {
   "cell_type": "code",
   "execution_count": null,
   "metadata": {},
   "outputs": [],
   "source": [
    "# Sort a list of alphanumeric strings based on product value of numeric character in it. If in any string there is no numeric \n",
    "# character take it's product value as 1.\n",
    "# Input:\n",
    "# ['1ac21', '23fg', '456', '098d','1','kls']\n",
    "# Output:\n",
    "# ['456', '23fg', '1ac21', '1', 'kls', '098d']\n",
    "\n",
    "list1 = ['1ac21', '23fg', '456', '098d','1','kls']\n",
    "prod_value = []\n",
    "for i in list1:\n",
    "    prod = 1\n",
    "    for j in i:\n",
    "        if(j.isdigit()):\n",
    "            prod = prod * int(j)\n",
    "    prod_value.append(prod)\n",
    "result = [i[1] for i in sorted(list(zip(prod_value,list1)),reverse=True)]\n",
    "print('Output:\\n',result)"
   ]
  },
  {
   "cell_type": "code",
   "execution_count": null,
   "metadata": {},
   "outputs": [],
   "source": [
    "# Split String of list on K character.\n",
    "# Input:\n",
    "# ['CampusX is a channel', 'for data-science', 'aspirants.']\n",
    "# Output:\n",
    "# ['CampusX', 'is', 'a', 'channel', 'for', 'data-science', 'aspirants.']\n",
    "\n",
    "li1 = ['CampusX is a channel', 'for data-science', 'aspirants.']\n",
    "li1 = ' '.join(li1).split(' ')\n",
    "print('Output:\\n',li1)"
   ]
  },
  {
   "cell_type": "code",
   "execution_count": null,
   "metadata": {},
   "outputs": [],
   "source": [
    "# Convert Character Matrix to single String using string comprehension.\n",
    "# Input:\n",
    "# [['c', 'a', 'm', 'p', 'u', 'x'], ['i', 's'], ['b', 'e', 's', 't'], ['c', 'h', 'a', 'n', 'n', 'e', 'l']]\n",
    "# Output:\n",
    "# campux is best channel\n",
    "\n",
    "li1 = [['c', 'a', 'm', 'p', 'u', 'x'], ['i', 's'], ['b', 'e', 's', 't'], ['c', 'h', 'a', 'n', 'n', 'e', 'l']]\n",
    "# str1 = ''\n",
    "# for i in li1:\n",
    "#     str1 = str1 + ' '+ ''.join(i)\n",
    "# print('Output:\\n',str1)\n",
    "result = ' '.join([''.join(i) for i in li1])\n",
    "print('Output:\\n',result)"
   ]
  },
  {
   "cell_type": "code",
   "execution_count": null,
   "metadata": {},
   "outputs": [],
   "source": [
    "# Add Space between Potential Words.\n",
    "# Input:\n",
    "# ['campusxIs', 'bestFor', 'dataScientist']\n",
    "# Output:\n",
    "# ['campusx Is', 'best For', 'data Scientist']\n",
    "\n",
    "li1 = ['campusxIs', 'bestFor', 'dataScientist']\n",
    "result = []\n",
    "for i in li1:\n",
    "    x = ''\n",
    "    for char in i:\n",
    "        if(char.isupper()):\n",
    "            x = x + ' ' + char\n",
    "        else:\n",
    "            x = x + char\n",
    "    result.append(x)\n",
    "print('Output:\\n',result)"
   ]
  },
  {
   "cell_type": "code",
   "execution_count": null,
   "metadata": {},
   "outputs": [],
   "source": [
    "# Write a program that can perform union operation on 2 lists\n",
    "# Input:\n",
    "# [1,2,3,4,5,1]\n",
    "# [2,3,5,7,8]\n",
    "# Output:\n",
    "# [1,2,3,4,5,7,8]\n",
    "\n",
    "li1 = [1,2,3,4,5,1]\n",
    "li2 = [2,3,5,7,8]\n",
    "li1 = li1 + li2 \n",
    "result = []\n",
    "[result.append(i) for i in li1 if(i not in result)]\n",
    "print('Output:\\n',result)"
   ]
  },
  {
   "cell_type": "code",
   "execution_count": null,
   "metadata": {},
   "outputs": [],
   "source": [
    "# Write a program that can find the max number of each row of a matrix\n",
    "# Input:\n",
    "# [[1,2,3],[4,5,6],[7,8,9]]\n",
    "# Output:\n",
    "# [3,6,9]\n",
    "\n",
    "li1 = [[1,2,3],[4,5,6],[7,8,9]]\n",
    "result = [max(i) for i in li1]\n",
    "print('Output:\\n',result)"
   ]
  },
  {
   "cell_type": "code",
   "execution_count": null,
   "metadata": {},
   "outputs": [],
   "source": [
    "# Write a list comprehension to print the following matrix\n",
    "# [[0, 1, 2], [3, 4, 5], [6, 7, 8]]\n",
    "\n",
    "matrix = [[i + j for j in range(0,3)] for i in range(0,8,3)]\n",
    "print('Output:\\n',matrix)"
   ]
  },
  {
   "cell_type": "code",
   "execution_count": null,
   "metadata": {},
   "outputs": [],
   "source": [
    "# Write a list comprehension that can transpose a given matrix\n",
    "# matrix = [\n",
    "# [1,2,3],\n",
    "# [4,5,6],\n",
    "# [7,8,9]\n",
    "# ]\n",
    "\n",
    "# [1, 4, 7]\n",
    "# [2, 5, 8]\n",
    "# [3, 6, 9]\n",
    "\n",
    "matrix = [[1,2,3],[4,5,6],[7,8,9]]\n",
    "result = [[matrix[j][i] for j in range(len(matrix))] for i in range(len(matrix))]\n",
    "print('Output:\\n',result)"
   ]
  },
  {
   "cell_type": "code",
   "execution_count": null,
   "metadata": {},
   "outputs": [],
   "source": [
    "# Write a list comprehension that can flatten a nested list\n",
    "# Input\n",
    "# matrix = [\n",
    "# [1,2,3],\n",
    "# [4,5,6],\n",
    "# [7,8,9]\n",
    "# ]\n",
    "\n",
    "# Output:\n",
    "# [1, 2, 3, 4, 5, 6, 7, 8, 9]\n",
    "\n",
    "matrix = [[1,2,3],[4,5,6],[7,8,9]]\n",
    "result = [j for i in matrix for j in i]\n",
    "print('Output:\\n',result)"
   ]
  }
 ],
 "metadata": {
  "kernelspec": {
   "display_name": "Python 3",
   "language": "python",
   "name": "python3"
  },
  "language_info": {
   "codemirror_mode": {
    "name": "ipython",
    "version": 3
   },
   "file_extension": ".py",
   "mimetype": "text/x-python",
   "name": "python",
   "nbconvert_exporter": "python",
   "pygments_lexer": "ipython3",
   "version": "3.9.1"
  }
 },
 "nbformat": 4,
 "nbformat_minor": 4
}
