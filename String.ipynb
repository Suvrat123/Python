{
 "cells": [
  {
   "cell_type": "code",
   "execution_count": null,
   "metadata": {},
   "outputs": [],
   "source": [
    "# Find the length of a given string without using len function\n",
    "\n",
    "s1 = input(\"Input : \")\n",
    "count = 0\n",
    "for i in s1:\n",
    "    count += 1\n",
    "print(\"Length of the string : \",count)"
   ]
  },
  {
   "cell_type": "code",
   "execution_count": null,
   "metadata": {},
   "outputs": [],
   "source": [
    "# Extract username from a given mail\n",
    "# Eg if the mail is abc123@gmail.com\n",
    "# then the username should be abc123\n",
    "\n",
    "email = input(\"Email : \")\n",
    "username = email.split('@')[0]\n",
    "print(\"Username : \",username)"
   ]
  },
  {
   "cell_type": "code",
   "execution_count": null,
   "metadata": {},
   "outputs": [],
   "source": [
    "# Count the frequency of a particular character in a provided string.\n",
    "# Eg:Hello how are you?\" is the string,the frequency of h in this string is 2.\n",
    "\n",
    "s1 = input(\"Input : \").lower()\n",
    "counter = input(\"Character which is to be counted : \")\n",
    "print(f\"Frequency : {s1.count(counter)}\")"
   ]
  },
  {
   "cell_type": "code",
   "execution_count": null,
   "metadata": {},
   "outputs": [],
   "source": [
    "# Write a program which can remove a particular character from a string.\n",
    "\n",
    "s1 = input(\"Input : \").lower()\n",
    "char = input(\"Character which is to be deleted : \")\n",
    "s2 = \"\"\n",
    "for i in s1:\n",
    "    if(i != char):\n",
    "        s2 = s2 + i\n",
    "print(\"New String : \",s2)\n",
    "        "
   ]
  },
  {
   "cell_type": "code",
   "execution_count": null,
   "metadata": {},
   "outputs": [],
   "source": [
    "# Write a program that check whether a given string is pallindrome or not.\n",
    "\n",
    "s1 = input(\"Input : \").lower()\n",
    "flag = True\n",
    "for i in range(0,len(s1)//2):\n",
    "    if(s1[i] != s[len(s1)-i-1]):\n",
    "        flag = False\n",
    "        print(\"String is not pallindrome\")\n",
    "        break\n",
    "if(flag == True):\n",
    "    print(\"String is pallindrome\")"
   ]
  },
  {
   "cell_type": "code",
   "execution_count": null,
   "metadata": {},
   "outputs": [],
   "source": [
    "# Write a program to count the number of words in a string without split().\n",
    "\n",
    "s1 = input(\"Input : \")\n",
    "counter = 0\n",
    "for i in s1:\n",
    "    if(i == ' '):\n",
    "        counter +=1\n",
    "print(\"Total Words : \",counter+1)"
   ]
  },
  {
   "cell_type": "code",
   "execution_count": null,
   "metadata": {},
   "outputs": [],
   "source": [
    "# Write a program to convert a string to title case without using the title()\n",
    "\n",
    "s1 = input(\"Input : \")\n",
    "s2 = ''\n",
    "for i in s1.split(' '):\n",
    "        s2 = s2 + i[0].upper() + i[1:] + ' '\n",
    "print(\"New String : \",s2)"
   ]
  },
  {
   "cell_type": "code",
   "execution_count": null,
   "metadata": {},
   "outputs": [],
   "source": [
    "# Write a program that can convert an integer to string.\n",
    "\n",
    "num = int(input(\"Integer : \"))\n",
    "digits = '0123456789'\n",
    "result = ''\n",
    "while(num !=0):\n",
    "    result = digits[num % 10] + result\n",
    "    num = num // 10\n",
    "print(\"Integer to String : \",result)"
   ]
  },
  {
   "cell_type": "code",
   "execution_count": null,
   "metadata": {},
   "outputs": [],
   "source": [
    "# Create Short Form from initial character\n",
    "# Given a string create short form ofthe string from Initial character. Short form should be capitalised.\n",
    "# Input:\n",
    "# Data science mentorship program\n",
    "# Output:\n",
    "# DSMP\n",
    "\n",
    "s1 = 'Data science mentorship program'\n",
    "s2 = ''\n",
    "for i in s1.split(' '):\n",
    "    s2 = (s2 + i[0]).upper()\n",
    "print(\"Output : \",s2)    "
   ]
  },
  {
   "cell_type": "code",
   "execution_count": null,
   "metadata": {},
   "outputs": [],
   "source": [
    "# Append second string in the middle of first string\n",
    "# Input:\n",
    "# campusx\n",
    "# data\n",
    "# Output:\n",
    "# camdatapusx\n",
    "\n",
    "from math import ceil\n",
    "s1 = 'campusx'\n",
    "s2 = 'data'\n",
    "\n",
    "print(s1[0:int(len(s1)/2)]+s2+s1[int(len(s1)/2):])"
   ]
  },
  {
   "cell_type": "code",
   "execution_count": null,
   "metadata": {},
   "outputs": [],
   "source": [
    "# Given string contains a combination of the lower and upper case letters. Write a program to arrange the characters of a string\n",
    "# so that all lowercase letters should come first.\n",
    "# Input:\n",
    "# str1 = PyNaTive\n",
    "# Output:\n",
    "# yaivePNT\n",
    "\n",
    "str1 = 'PyNaTive'\n",
    "lower = ''\n",
    "upper = ''\n",
    "for i in str1:\n",
    "    if(i.islower()):\n",
    "        lower = lower + i\n",
    "    elif(i.isupper()):\n",
    "        upper = upper + i\n",
    "print('Output : ',lower+upper)"
   ]
  },
  {
   "cell_type": "code",
   "execution_count": null,
   "metadata": {},
   "outputs": [],
   "source": [
    "# Take a alphanumeric string input and print the sum and average of the digits that appear in the string, ignoring all other \n",
    "# characters.\n",
    "# Input:\n",
    "# hel123O4every093\n",
    "# Output:\n",
    "# Sum: 22\n",
    "# Avg: 2.75\n",
    "\n",
    "s1 = 'hel123O4every093'\n",
    "add = 0\n",
    "count = 0\n",
    "for i in s1:\n",
    "    if(i.isdigit()):\n",
    "        add = add + int(i)\n",
    "        count = count + 1\n",
    "print(f\"Sum : {add} \\nAvg : {round(add/count,2)}\")"
   ]
  },
  {
   "cell_type": "code",
   "execution_count": null,
   "metadata": {},
   "outputs": [],
   "source": [
    "# Removal of all characters from a string except integers\n",
    "# Input:\n",
    "# str1 = 'I am 25 years and 10 months old'\n",
    "# Output:\n",
    "# 2510\n",
    "\n",
    "str1 = \"I am 25 years and 10 months old\"\n",
    "str2 = \"\"\n",
    "for i in str1:\n",
    "    if(i.isdigit()):\n",
    "        str2 = str2 + i\n",
    "print(\"Output : \",str2)"
   ]
  },
  {
   "cell_type": "code",
   "execution_count": null,
   "metadata": {},
   "outputs": [],
   "source": [
    "# Check whether the string is Symmetrical.\n",
    "# Statement: Given a string. the task is to check if the string is symmetrical or not. A string is said to be symmetrical if \n",
    "# both the halves of the string are the same.\n",
    "# Input\n",
    "# khokho\n",
    "# Output\n",
    "# The entered string is symmetrical\n",
    "\n",
    "s1 = 'khokho'\n",
    "if(len(s1)%2==0):\n",
    "    s2 = s1[0:len(s1)//2]\n",
    "    s3 = s1[len(s1)//2:]\n",
    "else:\n",
    "    s2 = s1[0:len(s1)//2]\n",
    "    s3 = s1[len(s1)//2+1:]\n",
    "if(s2==s3):\n",
    "    print('String is Symmetrical')\n",
    "else:\n",
    "    print(\"String is not symmetrical\")"
   ]
  },
  {
   "cell_type": "code",
   "execution_count": null,
   "metadata": {},
   "outputs": [],
   "source": [
    "# Reverse words in a given String\n",
    "# Statement: We are given a string and we need to reverse words of a given string.\n",
    "# Input:\n",
    "# geeks quiz practice code\n",
    "# Output:\n",
    "# code practice quiz geeks\n",
    "# Input:\n",
    "# my name is laxmi\n",
    "# Output:\n",
    "# laxmi is name my\n",
    "\n",
    "s1 = 'geeks quiz practice code'\n",
    "s1 = s1.split(' ')[::-1]\n",
    "s1 = ' '.join(s1)\n",
    "print('Output : ',s1)"
   ]
  },
  {
   "cell_type": "code",
   "execution_count": null,
   "metadata": {},
   "outputs": [],
   "source": [
    "# Find uncommon words from two Strings.\n",
    "# Statement: Given two sentences as strings A and B. The task is to return a list of all uncommon words. A word is uncommon if \n",
    "# it appears exactly once in any one of the sentences, and does not appear in the other sentence. Note: A sentence is a string \n",
    "# of space-separated words. Each word consists only of lowercase letters.\n",
    "# Input:\n",
    "# A = \"apple banana mango\" \n",
    "# B = \"banana fruits mango\"\n",
    "# Output:\n",
    "# ['apple', 'fruits']\n",
    "\n",
    "s1 = \"apple banana mango\".split(' ')\n",
    "s2 = \"banana fruits mango\".split(' ')\n",
    "s1 = s1 + s2\n",
    "s3 = []\n",
    "for i in s1:\n",
    "    if(s1.count(i)==1):\n",
    "        s3.append(i)\n",
    "print('Output : ',s3)"
   ]
  },
  {
   "cell_type": "code",
   "execution_count": null,
   "metadata": {},
   "outputs": [],
   "source": [
    "# Word location in String.\n",
    "# Statement: Find a location of a word in a given sentence.\n",
    "# Input:\n",
    "# Sentence: We can learn data science through campusx mentorship program.\n",
    "# word: campusx\n",
    "# Output:\n",
    "# Location of the word is 7.\n",
    "# Note- Don't use index/find functions\n",
    "\n",
    "s1 = 'We can learn data science through campusx mentorship program.'.split(' ')\n",
    "s2 = 'campusx'\n",
    "counter = 0\n",
    "for i in s1:\n",
    "    if(i==s2):\n",
    "        print('Location of the word : ',counter+1)\n",
    "        break\n",
    "    counter +=1"
   ]
  },
  {
   "cell_type": "code",
   "execution_count": null,
   "metadata": {},
   "outputs": [],
   "source": [
    "# Write a program that can remove all the duplicate characters from a string. User will provide the input.\n",
    "\n",
    "str1 = input(\"String : \").lower()\n",
    "str2 = ''\n",
    "for i in str1:\n",
    "    if(i not in str2):\n",
    "        str2 = str2 + i\n",
    "print(\"New String : \",str2)"
   ]
  }
 ],
 "metadata": {
  "kernelspec": {
   "display_name": "Python 3",
   "language": "python",
   "name": "python3"
  },
  "language_info": {
   "codemirror_mode": {
    "name": "ipython",
    "version": 3
   },
   "file_extension": ".py",
   "mimetype": "text/x-python",
   "name": "python",
   "nbconvert_exporter": "python",
   "pygments_lexer": "ipython3",
   "version": "3.9.1"
  }
 },
 "nbformat": 4,
 "nbformat_minor": 4
}
